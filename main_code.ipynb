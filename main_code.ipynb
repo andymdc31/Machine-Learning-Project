{
 "cells": [
  {
   "cell_type": "markdown",
   "metadata": {
    "colab_type": "text",
    "id": "ht7rCQND4LQd",
    "toc": true
   },
   "source": [
    "<h1>Table of Contents<span class=\"tocSkip\"></span></h1>\n",
    "<div class=\"toc\"><ul class=\"toc-item\"><li><span><a href=\"#Machine-Learning-Project\" data-toc-modified-id=\"Machine-Learning-Project-1\"><span class=\"toc-item-num\">1&nbsp;&nbsp;</span>Machine Learning Project</a></span></li><li><span><a href=\"#Questions-I-want-to-try-and-answer-with-dataset\" data-toc-modified-id=\"Questions-I-want-to-try-and-answer-with-dataset-2\"><span class=\"toc-item-num\">2&nbsp;&nbsp;</span>Questions I want to try and answer with dataset</a></span></li><li><span><a href=\"#Notes:\" data-toc-modified-id=\"Notes:-3\"><span class=\"toc-item-num\">3&nbsp;&nbsp;</span>Notes:</a></span></li><li><span><a href=\"#Functions\" data-toc-modified-id=\"Functions-4\"><span class=\"toc-item-num\">4&nbsp;&nbsp;</span>Functions</a></span></li><li><span><a href=\"#Exploring-the-Data\" data-toc-modified-id=\"Exploring-the-Data-5\"><span class=\"toc-item-num\">5&nbsp;&nbsp;</span>Exploring the Data</a></span><ul class=\"toc-item\"><li><span><a href=\"#Graph-out-every-column\" data-toc-modified-id=\"Graph-out-every-column-5.1\"><span class=\"toc-item-num\">5.1&nbsp;&nbsp;</span>Graph out every column</a></span></li></ul></li><li><span><a href=\"#Issues-with-Using-the-full-dataset\" data-toc-modified-id=\"Issues-with-Using-the-full-dataset-6\"><span class=\"toc-item-num\">6&nbsp;&nbsp;</span>Issues with Using the full dataset</a></span></li><li><span><a href=\"#Break-into-test-and-train\" data-toc-modified-id=\"Break-into-test-and-train-7\"><span class=\"toc-item-num\">7&nbsp;&nbsp;</span>Break into test and train</a></span></li><li><span><a href=\"#Run-Decision-Tree-Pipeline-w/-Standard-Scaler\" data-toc-modified-id=\"Run-Decision-Tree-Pipeline-w/-Standard-Scaler-8\"><span class=\"toc-item-num\">8&nbsp;&nbsp;</span>Run Decision Tree Pipeline w/ Standard Scaler</a></span><ul class=\"toc-item\"><li><ul class=\"toc-item\"><li><span><a href=\"#Observations:\" data-toc-modified-id=\"Observations:-8.0.1\"><span class=\"toc-item-num\">8.0.1&nbsp;&nbsp;</span>Observations:</a></span></li></ul></li></ul></li><li><span><a href=\"#Use-PCA,-run-Decision-Tree-Again\" data-toc-modified-id=\"Use-PCA,-run-Decision-Tree-Again-9\"><span class=\"toc-item-num\">9&nbsp;&nbsp;</span>Use PCA, run Decision Tree Again</a></span><ul class=\"toc-item\"><li><span><a href=\"#Heatmap-showing-correlation-of-features-before-PCA\" data-toc-modified-id=\"Heatmap-showing-correlation-of-features-before-PCA-9.1\"><span class=\"toc-item-num\">9.1&nbsp;&nbsp;</span>Heatmap showing correlation of features before PCA</a></span></li><li><span><a href=\"#Find-the-number-of-features-that-allows-for-95%-of-variance-to-be-kept\" data-toc-modified-id=\"Find-the-number-of-features-that-allows-for-95%-of-variance-to-be-kept-9.2\"><span class=\"toc-item-num\">9.2&nbsp;&nbsp;</span>Find the number of features that allows for 95% of variance to be kept</a></span></li><li><span><a href=\"#Heatmap-showing-correlation-after-PCA\" data-toc-modified-id=\"Heatmap-showing-correlation-after-PCA-9.3\"><span class=\"toc-item-num\">9.3&nbsp;&nbsp;</span>Heatmap showing correlation after PCA</a></span><ul class=\"toc-item\"><li><span><a href=\"#Observations:\" data-toc-modified-id=\"Observations:-9.3.1\"><span class=\"toc-item-num\">9.3.1&nbsp;&nbsp;</span>Observations:</a></span></li></ul></li><li><span><a href=\"#Decision-Tree-with-PCA\" data-toc-modified-id=\"Decision-Tree-with-PCA-9.4\"><span class=\"toc-item-num\">9.4&nbsp;&nbsp;</span>Decision Tree with PCA</a></span><ul class=\"toc-item\"><li><span><a href=\"#Observations:\" data-toc-modified-id=\"Observations:-9.4.1\"><span class=\"toc-item-num\">9.4.1&nbsp;&nbsp;</span>Observations:</a></span></li></ul></li></ul></li><li><span><a href=\"#Random-Forest\" data-toc-modified-id=\"Random-Forest-10\"><span class=\"toc-item-num\">10&nbsp;&nbsp;</span>Random Forest</a></span><ul class=\"toc-item\"><li><ul class=\"toc-item\"><li><span><a href=\"#Observations\" data-toc-modified-id=\"Observations-10.0.1\"><span class=\"toc-item-num\">10.0.1&nbsp;&nbsp;</span>Observations</a></span></li></ul></li></ul></li><li><span><a href=\"#SVM\" data-toc-modified-id=\"SVM-11\"><span class=\"toc-item-num\">11&nbsp;&nbsp;</span>SVM</a></span><ul class=\"toc-item\"><li><ul class=\"toc-item\"><li><span><a href=\"#Observations:\" data-toc-modified-id=\"Observations:-11.0.1\"><span class=\"toc-item-num\">11.0.1&nbsp;&nbsp;</span>Observations:</a></span></li></ul></li></ul></li><li><span><a href=\"#ADABoost\" data-toc-modified-id=\"ADABoost-12\"><span class=\"toc-item-num\">12&nbsp;&nbsp;</span>ADABoost</a></span><ul class=\"toc-item\"><li><ul class=\"toc-item\"><li><span><a href=\"#Observations:\" data-toc-modified-id=\"Observations:-12.0.1\"><span class=\"toc-item-num\">12.0.1&nbsp;&nbsp;</span>Observations:</a></span></li></ul></li></ul></li><li><span><a href=\"#Conclusions\" data-toc-modified-id=\"Conclusions-13\"><span class=\"toc-item-num\">13&nbsp;&nbsp;</span>Conclusions</a></span></li><li><span><a href=\"#Future-Work\" data-toc-modified-id=\"Future-Work-14\"><span class=\"toc-item-num\">14&nbsp;&nbsp;</span>Future Work</a></span></li></ul></div>"
   ]
  },
  {
   "cell_type": "markdown",
   "metadata": {
    "colab_type": "text",
    "id": "M8yJD1sx4LQe"
   },
   "source": [
    "# Machine Learning Project"
   ]
  },
  {
   "cell_type": "markdown",
   "metadata": {},
   "source": [
    "This project aims to use a dataset from kaggle.com based around League of Legends to see how well different machine learning algorithms could potentially predict wins. Also these algorithms can be used to show what are the most important features and some insight into how you may play the game. Also with this notebook is a non-technical presentation that goes a little more into how League is played and more about the game. However the basics of League are that it is the most popular MOBA game in the world with teams of 5 trying to destroy the other teams Nexus. "
   ]
  },
  {
   "cell_type": "markdown",
   "metadata": {
    "colab_type": "text",
    "id": "3ErG-iJr4LQg"
   },
   "source": [
    "# Questions I want to try and answer with dataset\n",
    "1. How well can different machine learning algorithms predict the winner.\n",
    "2. What are the top features that could determine the winner."
   ]
  },
  {
   "cell_type": "markdown",
   "metadata": {
    "colab_type": "text",
    "id": "RGd8ddTI4LQh"
   },
   "source": [
    "# Notes:\n",
    "1. games.csv has all the data from the played games\n",
    "2. champion_info.json has the names of all the champions and the number that represents them in games.csv\n",
    "3. summoner_spell_info.json has the names of all the summoner spells used and the number that represents them in games.csv\n",
    "4. In all columns that aren't champions or summoners, a 1 represents team1 and a 2 represents team2 respectively. A 0 represents that one of the teams forfeited before any objective was achieved by any team.\n",
    "5. In the winners column, a 1 represents team1 and a 2 represents team2 winning respectively."
   ]
  },
  {
   "cell_type": "code",
   "execution_count": 42,
   "metadata": {
    "ExecuteTime": {
     "end_time": "2019-12-03T15:42:47.978135Z",
     "start_time": "2019-12-03T15:42:47.970179Z"
    },
    "colab": {},
    "colab_type": "code",
    "id": "Ni8q7otT4LQi"
   },
   "outputs": [],
   "source": [
    "import pandas as pd\n",
    "import numpy as np\n",
    "import matplotlib.pyplot as plt\n",
    "%matplotlib inline\n",
    "import seaborn as sns\n",
    "from sklearn.model_selection import train_test_split\n",
    "from sklearn.preprocessing import StandardScaler\n",
    "from sklearn.tree import DecisionTreeClassifier\n",
    "from sklearn.pipeline import Pipeline\n",
    "from sklearn.decomposition import PCA\n",
    "from sklearn.model_selection import GridSearchCV\n",
    "from sklearn import svm\n",
    "from sklearn.metrics import confusion_matrix, f1_score, roc_curve, auc\n",
    "import itertools\n",
    "from sklearn.ensemble import RandomForestClassifier, AdaBoostClassifier"
   ]
  },
  {
   "cell_type": "markdown",
   "metadata": {
    "colab_type": "text",
    "id": "qAhCDxkT4LQl"
   },
   "source": [
    "# Functions"
   ]
  },
  {
   "cell_type": "code",
   "execution_count": 43,
   "metadata": {
    "ExecuteTime": {
     "end_time": "2019-12-03T15:42:47.985118Z",
     "start_time": "2019-12-03T15:42:47.979132Z"
    },
    "colab": {},
    "colab_type": "code",
    "id": "_xN5bCuJ4LQm"
   },
   "outputs": [],
   "source": [
    "def get_best_pipeline(gs):\n",
    "    \"\"\"Takes in a GridSearchCV object and returns the best pipeline associated\n",
    "       with that GridSearch\"\"\"\n",
    "    best_pipeline = gs.best_estimator_\n",
    "    return best_pipeline"
   ]
  },
  {
   "cell_type": "code",
   "execution_count": 44,
   "metadata": {
    "ExecuteTime": {
     "end_time": "2019-12-03T15:42:47.999085Z",
     "start_time": "2019-12-03T15:42:47.987135Z"
    },
    "colab": {},
    "colab_type": "code",
    "id": "Ygos3DCj4LQq"
   },
   "outputs": [],
   "source": [
    "def get_best_features(pipe, df, step_0=1, step_1=1, pca=False, svm=False):\n",
    "    \"\"\"Takes in a pipeline and returns the most important features, if PCA==True\n",
    "       than it will return what features were most important for pca and return \n",
    "       what features they were originally. For SVM, the most important features \n",
    "       are stored in coef_, also you must use a linear kernel to get coef_\"\"\"\n",
    "    \n",
    "    if pca == False:\n",
    "        zipped_feats = zip(df.columns, pipe.steps[step_0][step_1].feature_importances_)\n",
    "        zipped_feats = sorted(zipped_feats, key=lambda x: x[1], reverse=True)\n",
    "    \n",
    "        features, importances = zip(*zipped_feats)\n",
    "        top_features = features[:5]\n",
    "        top_importances = importances[:5]\n",
    "\n",
    "        plt.title('Feature Importances')\n",
    "        plt.barh(range(len(top_importances)), top_importances, color='b', align='center')\n",
    "        plt.yticks(range(len(top_importances)), top_features)\n",
    "        plt.xlabel('Relative Importance')\n",
    "        plt.show()\n",
    "        \n",
    "    elif pca == True and svm == False:\n",
    "        model = pipe.steps[1][1]\n",
    "        n_pcs= model.components_.shape[0]\n",
    "        initial_feature_names = X_train.columns\n",
    "        most_important = [np.abs(model.components_[i]).argmax() for i in range(n_pcs)]\n",
    "        most_important_names = [initial_feature_names[most_important[i]] for i in range(n_pcs)]\n",
    "\n",
    "        zipped_feats = zip(most_important_names, pipe.steps[2][1].feature_importances_)\n",
    "        zipped_feats = sorted(zipped_feats, key=lambda x: x[1], reverse=True)\n",
    "\n",
    "        features, importances = zip(*zipped_feats)\n",
    "        top_features = features[:5]\n",
    "        top_importances = importances[:5]\n",
    "\n",
    "        plt.title('Feature Importances')\n",
    "        plt.barh(range(len(top_importances)), top_importances, color='b', align='center')\n",
    "        plt.yticks(range(len(top_importances)), top_features)\n",
    "        plt.xlabel('Relative Importance')\n",
    "        plt.show()\n",
    "\n",
    "    else:\n",
    "        model = pipe.steps[1][1]\n",
    "        n_pcs= model.components_.shape[0]\n",
    "        initial_feature_names = X_train.columns\n",
    "        most_important = [np.abs(model.components_[i]).argmax() for i in range(n_pcs)]\n",
    "        most_important_names = [initial_feature_names[most_important[i]] for i in range(n_pcs)]\n",
    "\n",
    "        zipped_feats = zip(most_important_names, pipe.steps[2][1].coef_[0])\n",
    "        zipped_feats = sorted(zipped_feats, key=lambda x: x[1], reverse=True)\n",
    "\n",
    "        features, importances = zip(*zipped_feats)\n",
    "        top_features = features[:5]\n",
    "        top_importances = importances[:5]\n",
    "\n",
    "        plt.title('Feature Importances')\n",
    "        plt.barh(range(len(top_importances)), top_importances, color='b', align='center')\n",
    "        plt.yticks(range(len(top_importances)), top_features)\n",
    "        plt.xlabel('Relative Importance')\n",
    "        plt.show()      "
   ]
  },
  {
   "cell_type": "code",
   "execution_count": 45,
   "metadata": {
    "ExecuteTime": {
     "end_time": "2019-12-03T15:42:48.008082Z",
     "start_time": "2019-12-03T15:42:48.000098Z"
    },
    "colab": {},
    "colab_type": "code",
    "id": "9uBJ4z_n4LQs"
   },
   "outputs": [],
   "source": [
    "def get_metrics(gs, X_test, y_test):\n",
    "    \"\"\"Takes in a gridsearch object and returns the best estimator confusion matrix\"\"\"\n",
    "    y_pred = gs.best_estimator_.predict(X_test)\n",
    "    print('f1 score: ', f1_score(y_test, y_pred))\n",
    "    cnf_matrix = confusion_matrix(y_test, y_pred)\n",
    "    plt.imshow(cnf_matrix,  cmap=plt.cm.Blues) \n",
    "\n",
    "    # Add title and axis labels\n",
    "    plt.title('Confusion Matrix')\n",
    "    plt.ylabel('True label')\n",
    "    plt.xlabel('Predicted label')\n",
    "\n",
    "    # Add appropriate axis scales\n",
    "    class_names = set(y_test) # Get class labels to add to matrix\n",
    "    tick_marks = np.arange(len(class_names))\n",
    "    plt.xticks(tick_marks, class_names, rotation=45)\n",
    "    plt.yticks(tick_marks, class_names)\n",
    "\n",
    "    # Add labels to each cell\n",
    "    thresh = cnf_matrix.max() / 2. # Used for text coloring below\n",
    "    # Here we iterate through the confusion matrix and append labels to our visualization \n",
    "    for i, j in itertools.product(range(cnf_matrix.shape[0]), range(cnf_matrix.shape[1])):\n",
    "            plt.text(j, i, cnf_matrix[i, j],\n",
    "                     horizontalalignment='center',\n",
    "                     color='white' if cnf_matrix[i, j] > thresh else 'black')\n",
    "\n",
    "    # Add a legend\n",
    "    plt.colorbar()\n",
    "    plt.show()\n",
    "\n"
   ]
  },
  {
   "cell_type": "code",
   "execution_count": 82,
   "metadata": {
    "ExecuteTime": {
     "end_time": "2019-12-03T15:56:09.995958Z",
     "start_time": "2019-12-03T15:56:09.988005Z"
    },
    "colab": {},
    "colab_type": "code",
    "id": "QsAPl1uo4LQv"
   },
   "outputs": [],
   "source": [
    "\"\"\"def draw_roc_curve(gs, X_test, y_test, clf):\n",
    "    As of right now this function is not properly working. It keeps returning an error that \n",
    "    it is not binary. Another issue is that not all algorithms have a decision function.\n",
    "    For now the other metric function will give back the results.  \n",
    "    #if clf == 'tree':\n",
    "    y_score = gs.best_estimator_.predict_proba(X_test)[:, 1]\n",
    "    #y_score = gs.decision_function(X_test)\n",
    "    fpr, tpr, thresholds = roc_curve(y_test, y_score)\n",
    "    print('AUC: {}'.format(auc(fpr, tpr)))\n",
    "    \n",
    "    plt.figure(figsize=(10, 8))\n",
    "    lw = 2\n",
    "    plt.plot(fpr, tpr, color='darkorange',\n",
    "             lw=lw, label='ROC curve')\n",
    "    plt.plot([0, 1], [0, 1], color='navy', lw=lw, linestyle='--')\n",
    "    plt.xlim([0.0, 1.0])\n",
    "    plt.ylim([0.0, 1.05])\n",
    "    plt.yticks([i/20.0 for i in range(21)])\n",
    "    plt.xticks([i/20.0 for i in range(21)])\n",
    "    plt.xlabel('False Positive Rate')\n",
    "    plt.ylabel('True Positive Rate')\n",
    "    plt.title('Receiver operating characteristic (ROC) Curve')\n",
    "    plt.legend(loc='lower right')\n",
    "    plt.show()\"\"\""
   ]
  },
  {
   "cell_type": "markdown",
   "metadata": {},
   "source": [
    "As of this upload, the draw ROC curve function is not currently working. "
   ]
  },
  {
   "cell_type": "markdown",
   "metadata": {
    "colab_type": "text",
    "id": "d2yL8eci4LQx"
   },
   "source": [
    "# Exploring the Data"
   ]
  },
  {
   "cell_type": "code",
   "execution_count": 47,
   "metadata": {
    "ExecuteTime": {
     "end_time": "2019-12-03T15:42:48.229491Z",
     "start_time": "2019-12-03T15:42:48.017031Z"
    },
    "colab": {
     "base_uri": "https://localhost:8080/",
     "height": 224
    },
    "colab_type": "code",
    "id": "vZO12LYg4LQy",
    "outputId": "ba62195b-2c78-4071-b19c-04f79525c163"
   },
   "outputs": [
    {
     "data": {
      "text/html": [
       "<div>\n",
       "<style scoped>\n",
       "    .dataframe tbody tr th:only-of-type {\n",
       "        vertical-align: middle;\n",
       "    }\n",
       "\n",
       "    .dataframe tbody tr th {\n",
       "        vertical-align: top;\n",
       "    }\n",
       "\n",
       "    .dataframe thead th {\n",
       "        text-align: right;\n",
       "    }\n",
       "</style>\n",
       "<table border=\"1\" class=\"dataframe\">\n",
       "  <thead>\n",
       "    <tr style=\"text-align: right;\">\n",
       "      <th></th>\n",
       "      <th>gameId</th>\n",
       "      <th>creationTime</th>\n",
       "      <th>gameDuration</th>\n",
       "      <th>seasonId</th>\n",
       "      <th>winner</th>\n",
       "      <th>firstBlood</th>\n",
       "      <th>firstTower</th>\n",
       "      <th>firstInhibitor</th>\n",
       "      <th>firstBaron</th>\n",
       "      <th>firstDragon</th>\n",
       "      <th>...</th>\n",
       "      <th>t2_towerKills</th>\n",
       "      <th>t2_inhibitorKills</th>\n",
       "      <th>t2_baronKills</th>\n",
       "      <th>t2_dragonKills</th>\n",
       "      <th>t2_riftHeraldKills</th>\n",
       "      <th>t2_ban1</th>\n",
       "      <th>t2_ban2</th>\n",
       "      <th>t2_ban3</th>\n",
       "      <th>t2_ban4</th>\n",
       "      <th>t2_ban5</th>\n",
       "    </tr>\n",
       "  </thead>\n",
       "  <tbody>\n",
       "    <tr>\n",
       "      <th>0</th>\n",
       "      <td>3326086514</td>\n",
       "      <td>1504279457970</td>\n",
       "      <td>1949</td>\n",
       "      <td>9</td>\n",
       "      <td>1</td>\n",
       "      <td>2</td>\n",
       "      <td>1</td>\n",
       "      <td>1</td>\n",
       "      <td>1</td>\n",
       "      <td>1</td>\n",
       "      <td>...</td>\n",
       "      <td>5</td>\n",
       "      <td>0</td>\n",
       "      <td>0</td>\n",
       "      <td>1</td>\n",
       "      <td>1</td>\n",
       "      <td>114</td>\n",
       "      <td>67</td>\n",
       "      <td>43</td>\n",
       "      <td>16</td>\n",
       "      <td>51</td>\n",
       "    </tr>\n",
       "    <tr>\n",
       "      <th>1</th>\n",
       "      <td>3229566029</td>\n",
       "      <td>1497848803862</td>\n",
       "      <td>1851</td>\n",
       "      <td>9</td>\n",
       "      <td>1</td>\n",
       "      <td>1</td>\n",
       "      <td>1</td>\n",
       "      <td>1</td>\n",
       "      <td>0</td>\n",
       "      <td>1</td>\n",
       "      <td>...</td>\n",
       "      <td>2</td>\n",
       "      <td>0</td>\n",
       "      <td>0</td>\n",
       "      <td>0</td>\n",
       "      <td>0</td>\n",
       "      <td>11</td>\n",
       "      <td>67</td>\n",
       "      <td>238</td>\n",
       "      <td>51</td>\n",
       "      <td>420</td>\n",
       "    </tr>\n",
       "    <tr>\n",
       "      <th>2</th>\n",
       "      <td>3327363504</td>\n",
       "      <td>1504360103310</td>\n",
       "      <td>1493</td>\n",
       "      <td>9</td>\n",
       "      <td>1</td>\n",
       "      <td>2</td>\n",
       "      <td>1</td>\n",
       "      <td>1</td>\n",
       "      <td>1</td>\n",
       "      <td>2</td>\n",
       "      <td>...</td>\n",
       "      <td>2</td>\n",
       "      <td>0</td>\n",
       "      <td>0</td>\n",
       "      <td>1</td>\n",
       "      <td>0</td>\n",
       "      <td>157</td>\n",
       "      <td>238</td>\n",
       "      <td>121</td>\n",
       "      <td>57</td>\n",
       "      <td>28</td>\n",
       "    </tr>\n",
       "    <tr>\n",
       "      <th>3</th>\n",
       "      <td>3326856598</td>\n",
       "      <td>1504348503996</td>\n",
       "      <td>1758</td>\n",
       "      <td>9</td>\n",
       "      <td>1</td>\n",
       "      <td>1</td>\n",
       "      <td>1</td>\n",
       "      <td>1</td>\n",
       "      <td>1</td>\n",
       "      <td>1</td>\n",
       "      <td>...</td>\n",
       "      <td>0</td>\n",
       "      <td>0</td>\n",
       "      <td>0</td>\n",
       "      <td>0</td>\n",
       "      <td>0</td>\n",
       "      <td>164</td>\n",
       "      <td>18</td>\n",
       "      <td>141</td>\n",
       "      <td>40</td>\n",
       "      <td>51</td>\n",
       "    </tr>\n",
       "    <tr>\n",
       "      <th>4</th>\n",
       "      <td>3330080762</td>\n",
       "      <td>1504554410899</td>\n",
       "      <td>2094</td>\n",
       "      <td>9</td>\n",
       "      <td>1</td>\n",
       "      <td>2</td>\n",
       "      <td>1</td>\n",
       "      <td>1</td>\n",
       "      <td>1</td>\n",
       "      <td>1</td>\n",
       "      <td>...</td>\n",
       "      <td>3</td>\n",
       "      <td>0</td>\n",
       "      <td>0</td>\n",
       "      <td>1</td>\n",
       "      <td>0</td>\n",
       "      <td>86</td>\n",
       "      <td>11</td>\n",
       "      <td>201</td>\n",
       "      <td>122</td>\n",
       "      <td>18</td>\n",
       "    </tr>\n",
       "  </tbody>\n",
       "</table>\n",
       "<p>5 rows × 61 columns</p>\n",
       "</div>"
      ],
      "text/plain": [
       "       gameId   creationTime  gameDuration  seasonId  winner  firstBlood  \\\n",
       "0  3326086514  1504279457970          1949         9       1           2   \n",
       "1  3229566029  1497848803862          1851         9       1           1   \n",
       "2  3327363504  1504360103310          1493         9       1           2   \n",
       "3  3326856598  1504348503996          1758         9       1           1   \n",
       "4  3330080762  1504554410899          2094         9       1           2   \n",
       "\n",
       "   firstTower  firstInhibitor  firstBaron  firstDragon  ...  t2_towerKills  \\\n",
       "0           1               1           1            1  ...              5   \n",
       "1           1               1           0            1  ...              2   \n",
       "2           1               1           1            2  ...              2   \n",
       "3           1               1           1            1  ...              0   \n",
       "4           1               1           1            1  ...              3   \n",
       "\n",
       "   t2_inhibitorKills  t2_baronKills  t2_dragonKills  t2_riftHeraldKills  \\\n",
       "0                  0              0               1                   1   \n",
       "1                  0              0               0                   0   \n",
       "2                  0              0               1                   0   \n",
       "3                  0              0               0                   0   \n",
       "4                  0              0               1                   0   \n",
       "\n",
       "   t2_ban1  t2_ban2  t2_ban3  t2_ban4  t2_ban5  \n",
       "0      114       67       43       16       51  \n",
       "1       11       67      238       51      420  \n",
       "2      157      238      121       57       28  \n",
       "3      164       18      141       40       51  \n",
       "4       86       11      201      122       18  \n",
       "\n",
       "[5 rows x 61 columns]"
      ]
     },
     "execution_count": 47,
     "metadata": {},
     "output_type": "execute_result"
    }
   ],
   "source": [
    "#import data\n",
    "df = pd.read_csv('games.csv')\n",
    "df.head()"
   ]
  },
  {
   "cell_type": "code",
   "execution_count": 48,
   "metadata": {
    "ExecuteTime": {
     "end_time": "2019-12-03T15:42:48.271378Z",
     "start_time": "2019-12-03T15:42:48.230460Z"
    },
    "colab": {
     "base_uri": "https://localhost:8080/",
     "height": 1000
    },
    "colab_type": "code",
    "id": "N2-e3Uqd4LQ2",
    "outputId": "14e71c0e-5398-4cdb-9f8c-d297de68cf05"
   },
   "outputs": [
    {
     "name": "stdout",
     "output_type": "stream",
     "text": [
      "<class 'pandas.core.frame.DataFrame'>\n",
      "RangeIndex: 51490 entries, 0 to 51489\n",
      "Data columns (total 61 columns):\n",
      "gameId                51490 non-null int64\n",
      "creationTime          51490 non-null int64\n",
      "gameDuration          51490 non-null int64\n",
      "seasonId              51490 non-null int64\n",
      "winner                51490 non-null int64\n",
      "firstBlood            51490 non-null int64\n",
      "firstTower            51490 non-null int64\n",
      "firstInhibitor        51490 non-null int64\n",
      "firstBaron            51490 non-null int64\n",
      "firstDragon           51490 non-null int64\n",
      "firstRiftHerald       51490 non-null int64\n",
      "t1_champ1id           51490 non-null int64\n",
      "t1_champ1_sum1        51490 non-null int64\n",
      "t1_champ1_sum2        51490 non-null int64\n",
      "t1_champ2id           51490 non-null int64\n",
      "t1_champ2_sum1        51490 non-null int64\n",
      "t1_champ2_sum2        51490 non-null int64\n",
      "t1_champ3id           51490 non-null int64\n",
      "t1_champ3_sum1        51490 non-null int64\n",
      "t1_champ3_sum2        51490 non-null int64\n",
      "t1_champ4id           51490 non-null int64\n",
      "t1_champ4_sum1        51490 non-null int64\n",
      "t1_champ4_sum2        51490 non-null int64\n",
      "t1_champ5id           51490 non-null int64\n",
      "t1_champ5_sum1        51490 non-null int64\n",
      "t1_champ5_sum2        51490 non-null int64\n",
      "t1_towerKills         51490 non-null int64\n",
      "t1_inhibitorKills     51490 non-null int64\n",
      "t1_baronKills         51490 non-null int64\n",
      "t1_dragonKills        51490 non-null int64\n",
      "t1_riftHeraldKills    51490 non-null int64\n",
      "t1_ban1               51490 non-null int64\n",
      "t1_ban2               51490 non-null int64\n",
      "t1_ban3               51490 non-null int64\n",
      "t1_ban4               51490 non-null int64\n",
      "t1_ban5               51490 non-null int64\n",
      "t2_champ1id           51490 non-null int64\n",
      "t2_champ1_sum1        51490 non-null int64\n",
      "t2_champ1_sum2        51490 non-null int64\n",
      "t2_champ2id           51490 non-null int64\n",
      "t2_champ2_sum1        51490 non-null int64\n",
      "t2_champ2_sum2        51490 non-null int64\n",
      "t2_champ3id           51490 non-null int64\n",
      "t2_champ3_sum1        51490 non-null int64\n",
      "t2_champ3_sum2        51490 non-null int64\n",
      "t2_champ4id           51490 non-null int64\n",
      "t2_champ4_sum1        51490 non-null int64\n",
      "t2_champ4_sum2        51490 non-null int64\n",
      "t2_champ5id           51490 non-null int64\n",
      "t2_champ5_sum1        51490 non-null int64\n",
      "t2_champ5_sum2        51490 non-null int64\n",
      "t2_towerKills         51490 non-null int64\n",
      "t2_inhibitorKills     51490 non-null int64\n",
      "t2_baronKills         51490 non-null int64\n",
      "t2_dragonKills        51490 non-null int64\n",
      "t2_riftHeraldKills    51490 non-null int64\n",
      "t2_ban1               51490 non-null int64\n",
      "t2_ban2               51490 non-null int64\n",
      "t2_ban3               51490 non-null int64\n",
      "t2_ban4               51490 non-null int64\n",
      "t2_ban5               51490 non-null int64\n",
      "dtypes: int64(61)\n",
      "memory usage: 24.0 MB\n"
     ]
    }
   ],
   "source": [
    "df.info()"
   ]
  },
  {
   "cell_type": "code",
   "execution_count": 49,
   "metadata": {
    "ExecuteTime": {
     "end_time": "2019-12-03T15:42:48.277357Z",
     "start_time": "2019-12-03T15:42:48.273345Z"
    },
    "colab": {
     "base_uri": "https://localhost:8080/",
     "height": 34
    },
    "colab_type": "code",
    "id": "wEAZlDkg4LQ5",
    "outputId": "c86ef9d2-5af2-4784-e1d0-2b87f591a5f8"
   },
   "outputs": [
    {
     "data": {
      "text/plain": [
       "1"
      ]
     },
     "execution_count": 49,
     "metadata": {},
     "output_type": "execute_result"
    }
   ],
   "source": [
    "df.seasonId.nunique()"
   ]
  },
  {
   "cell_type": "markdown",
   "metadata": {
    "colab_type": "text",
    "id": "WZS8FLVt4LQ7"
   },
   "source": [
    "Looking at the columns already I know I want to drop a few of them. I'm not interested in the gameId, creationTime, or seasonId. I am not comparing one game to the next, I want to compare all of them to each other so they don't require their game Id. Maybe I could come back eventually and convert the creation time to a readable column and see if the time of day a game is played affects anything. All games played were from season 9. "
   ]
  },
  {
   "cell_type": "code",
   "execution_count": 50,
   "metadata": {
    "ExecuteTime": {
     "end_time": "2019-12-03T15:42:48.293296Z",
     "start_time": "2019-12-03T15:42:48.279331Z"
    },
    "colab": {},
    "colab_type": "code",
    "id": "PoU8AohS4LQ8"
   },
   "outputs": [],
   "source": [
    "df = df.drop(columns=['gameId', 'creationTime', 'seasonId'])"
   ]
  },
  {
   "cell_type": "code",
   "execution_count": 51,
   "metadata": {
    "ExecuteTime": {
     "end_time": "2019-12-03T15:42:48.328198Z",
     "start_time": "2019-12-03T15:42:48.294289Z"
    },
    "colab": {
     "base_uri": "https://localhost:8080/",
     "height": 1000
    },
    "colab_type": "code",
    "id": "g9gBEnsR4LQ-",
    "outputId": "76c983c2-682e-4fde-c490-cb946c22cf0a"
   },
   "outputs": [
    {
     "data": {
      "text/plain": [
       "gameDuration          0\n",
       "winner                0\n",
       "firstBlood            0\n",
       "firstTower            0\n",
       "firstInhibitor        0\n",
       "firstBaron            0\n",
       "firstDragon           0\n",
       "firstRiftHerald       0\n",
       "t1_champ1id           0\n",
       "t1_champ1_sum1        0\n",
       "t1_champ1_sum2        0\n",
       "t1_champ2id           0\n",
       "t1_champ2_sum1        0\n",
       "t1_champ2_sum2        0\n",
       "t1_champ3id           0\n",
       "t1_champ3_sum1        0\n",
       "t1_champ3_sum2        0\n",
       "t1_champ4id           0\n",
       "t1_champ4_sum1        0\n",
       "t1_champ4_sum2        0\n",
       "t1_champ5id           0\n",
       "t1_champ5_sum1        0\n",
       "t1_champ5_sum2        0\n",
       "t1_towerKills         0\n",
       "t1_inhibitorKills     0\n",
       "t1_baronKills         0\n",
       "t1_dragonKills        0\n",
       "t1_riftHeraldKills    0\n",
       "t1_ban1               0\n",
       "t1_ban2               0\n",
       "t1_ban3               0\n",
       "t1_ban4               0\n",
       "t1_ban5               0\n",
       "t2_champ1id           0\n",
       "t2_champ1_sum1        0\n",
       "t2_champ1_sum2        0\n",
       "t2_champ2id           0\n",
       "t2_champ2_sum1        0\n",
       "t2_champ2_sum2        0\n",
       "t2_champ3id           0\n",
       "t2_champ3_sum1        0\n",
       "t2_champ3_sum2        0\n",
       "t2_champ4id           0\n",
       "t2_champ4_sum1        0\n",
       "t2_champ4_sum2        0\n",
       "t2_champ5id           0\n",
       "t2_champ5_sum1        0\n",
       "t2_champ5_sum2        0\n",
       "t2_towerKills         0\n",
       "t2_inhibitorKills     0\n",
       "t2_baronKills         0\n",
       "t2_dragonKills        0\n",
       "t2_riftHeraldKills    0\n",
       "t2_ban1               0\n",
       "t2_ban2               0\n",
       "t2_ban3               0\n",
       "t2_ban4               0\n",
       "t2_ban5               0\n",
       "dtype: int64"
      ]
     },
     "execution_count": 51,
     "metadata": {},
     "output_type": "execute_result"
    }
   ],
   "source": [
    "df.isna().sum()"
   ]
  },
  {
   "cell_type": "markdown",
   "metadata": {
    "colab_type": "text",
    "id": "g2Q_giZ34LRB"
   },
   "source": [
    "There is no missing data from any feature"
   ]
  },
  {
   "cell_type": "markdown",
   "metadata": {
    "colab_type": "text",
    "id": "NAFDRCqx4LRC"
   },
   "source": [
    "The column that I will be trying to predict against is 'winner' column"
   ]
  },
  {
   "cell_type": "code",
   "execution_count": 81,
   "metadata": {
    "ExecuteTime": {
     "end_time": "2019-12-03T15:53:51.510278Z",
     "start_time": "2019-12-03T15:53:51.503325Z"
    }
   },
   "outputs": [
    {
     "data": {
      "text/plain": [
       "1    26077\n",
       "2    25413\n",
       "Name: winner, dtype: int64"
      ]
     },
     "execution_count": 81,
     "metadata": {},
     "output_type": "execute_result"
    }
   ],
   "source": [
    "df.winner.value_counts()"
   ]
  },
  {
   "cell_type": "code",
   "execution_count": 52,
   "metadata": {
    "ExecuteTime": {
     "end_time": "2019-12-03T15:42:48.351165Z",
     "start_time": "2019-12-03T15:42:48.329196Z"
    },
    "colab": {
     "base_uri": "https://localhost:8080/",
     "height": 51
    },
    "colab_type": "code",
    "id": "Cs8i4WrX4LRC",
    "outputId": "e38a1a49-39ca-400c-8c8f-953a378e2f1c"
   },
   "outputs": [
    {
     "name": "stdout",
     "output_type": "stream",
     "text": [
      "Team 1 wins 26077 out of 51490 games or 50.64% of games\n",
      "Team 2 wins 25413 out of 51490 games or 49.36% of games\n"
     ]
    }
   ],
   "source": [
    "games = len(df.winner)\n",
    "t1_wins = len(df[df.winner == 1])\n",
    "t2_wins = len(df[df.winner ==2])\n",
    "\n",
    "print('Team 1 wins {} out of {} games or {}% of games'.format(t1_wins, games, round(t1_wins/games*100, 2)))\n",
    "print('Team 2 wins {} out of {} games or {}% of games'.format(t2_wins, games, round(t2_wins/games*100, 2)))"
   ]
  },
  {
   "cell_type": "markdown",
   "metadata": {
    "colab_type": "text",
    "id": "hFrAEw0B4LRF"
   },
   "source": [
    "As you can see both teams are winning about half the time. So if you just randomly guessed which team would win you'd have a 50% chance of guessing correctly"
   ]
  },
  {
   "cell_type": "markdown",
   "metadata": {
    "ExecuteTime": {
     "end_time": "2019-11-19T00:11:03.676485Z",
     "start_time": "2019-11-19T00:11:03.671482Z"
    },
    "colab_type": "text",
    "id": "Q-MPMOcC4LRF"
   },
   "source": [
    "## Graph out every column"
   ]
  },
  {
   "cell_type": "code",
   "execution_count": 53,
   "metadata": {
    "ExecuteTime": {
     "end_time": "2019-12-03T15:42:55.019431Z",
     "start_time": "2019-12-03T15:42:48.352138Z"
    },
    "colab": {
     "base_uri": "https://localhost:8080/",
     "height": 1000
    },
    "colab_type": "code",
    "id": "jHIdPWLi4LRG",
    "outputId": "7adafa95-c97e-41b2-e0bd-277487c906b6"
   },
   "outputs": [
    {
     "data": {
      "image/png": "[encoded data removed]",
      "text/plain": [
       "<Figure size 1296x3600 with 60 Axes>"
      ]
     },
     "metadata": {
      "needs_background": "light"
     },
     "output_type": "display_data"
    }
   ],
   "source": [
    "df.hist(figsize=(18,50),layout=(15,4));"
   ]
  },
  {
   "cell_type": "markdown",
   "metadata": {
    "colab_type": "text",
    "id": "2QzNqxos4LRJ"
   },
   "source": [
    "Observations:\n",
    "A lot of these features are categorical. And a few are continuous. I will have to go through and determine which is which before running any predictions."
   ]
  },
  {
   "cell_type": "code",
   "execution_count": 54,
   "metadata": {
    "ExecuteTime": {
     "end_time": "2019-12-03T15:42:55.027402Z",
     "start_time": "2019-12-03T15:42:55.020411Z"
    },
    "colab": {},
    "colab_type": "code",
    "id": "_s9giwdS4LRJ"
   },
   "outputs": [],
   "source": [
    "df_with_dummies = df.copy()"
   ]
  },
  {
   "cell_type": "code",
   "execution_count": 55,
   "metadata": {
    "ExecuteTime": {
     "end_time": "2019-12-03T15:43:01.850159Z",
     "start_time": "2019-12-03T15:42:55.028389Z"
    },
    "colab": {},
    "colab_type": "code",
    "id": "6LPPZLsG4LRM"
   },
   "outputs": [],
   "source": [
    "categorical_feature_list = None\n",
    "\n",
    "continuous_feature_list = ['winner','gameDuration', 't1_dragonKills', 't1_inhibitorKills', 't1_towerKills', 't1_baronKills',\n",
    "                           't2_dragonKills', 't2_inhibitorKills', 't2_towerKills']\n",
    "\n",
    "for column in df.columns:\n",
    "    if column in continuous_feature_list:\n",
    "        continue\n",
    "    else:\n",
    "        dummies = pd.get_dummies(df[column], prefix=column)\n",
    "        df_with_dummies = pd.concat([df_with_dummies, dummies], axis=1)\n",
    "        df_with_dummies = df_with_dummies.drop(columns=[column])"
   ]
  },
  {
   "cell_type": "code",
   "execution_count": 56,
   "metadata": {
    "ExecuteTime": {
     "end_time": "2019-12-03T15:43:01.869109Z",
     "start_time": "2019-12-03T15:43:01.851156Z"
    },
    "colab": {
     "base_uri": "https://localhost:8080/",
     "height": 253
    },
    "colab_type": "code",
    "id": "1acdkTti4LRO",
    "outputId": "812879dc-ebc9-4955-bd31-aedbc407f1e4"
   },
   "outputs": [
    {
     "data": {
      "text/html": [
       "<div>\n",
       "<style scoped>\n",
       "    .dataframe tbody tr th:only-of-type {\n",
       "        vertical-align: middle;\n",
       "    }\n",
       "\n",
       "    .dataframe tbody tr th {\n",
       "        vertical-align: top;\n",
       "    }\n",
       "\n",
       "    .dataframe thead th {\n",
       "        text-align: right;\n",
       "    }\n",
       "</style>\n",
       "<table border=\"1\" class=\"dataframe\">\n",
       "  <thead>\n",
       "    <tr style=\"text-align: right;\">\n",
       "      <th></th>\n",
       "      <th>gameDuration</th>\n",
       "      <th>winner</th>\n",
       "      <th>t1_towerKills</th>\n",
       "      <th>t1_inhibitorKills</th>\n",
       "      <th>t1_baronKills</th>\n",
       "      <th>t1_dragonKills</th>\n",
       "      <th>t2_towerKills</th>\n",
       "      <th>t2_inhibitorKills</th>\n",
       "      <th>t2_dragonKills</th>\n",
       "      <th>firstBlood_0</th>\n",
       "      <th>...</th>\n",
       "      <th>t2_ban5_268</th>\n",
       "      <th>t2_ban5_412</th>\n",
       "      <th>t2_ban5_420</th>\n",
       "      <th>t2_ban5_421</th>\n",
       "      <th>t2_ban5_427</th>\n",
       "      <th>t2_ban5_429</th>\n",
       "      <th>t2_ban5_432</th>\n",
       "      <th>t2_ban5_497</th>\n",
       "      <th>t2_ban5_498</th>\n",
       "      <th>t2_ban5_516</th>\n",
       "    </tr>\n",
       "  </thead>\n",
       "  <tbody>\n",
       "    <tr>\n",
       "      <th>0</th>\n",
       "      <td>1949</td>\n",
       "      <td>1</td>\n",
       "      <td>11</td>\n",
       "      <td>1</td>\n",
       "      <td>2</td>\n",
       "      <td>3</td>\n",
       "      <td>5</td>\n",
       "      <td>0</td>\n",
       "      <td>1</td>\n",
       "      <td>0</td>\n",
       "      <td>...</td>\n",
       "      <td>0</td>\n",
       "      <td>0</td>\n",
       "      <td>0</td>\n",
       "      <td>0</td>\n",
       "      <td>0</td>\n",
       "      <td>0</td>\n",
       "      <td>0</td>\n",
       "      <td>0</td>\n",
       "      <td>0</td>\n",
       "      <td>0</td>\n",
       "    </tr>\n",
       "    <tr>\n",
       "      <th>1</th>\n",
       "      <td>1851</td>\n",
       "      <td>1</td>\n",
       "      <td>10</td>\n",
       "      <td>4</td>\n",
       "      <td>0</td>\n",
       "      <td>2</td>\n",
       "      <td>2</td>\n",
       "      <td>0</td>\n",
       "      <td>0</td>\n",
       "      <td>0</td>\n",
       "      <td>...</td>\n",
       "      <td>0</td>\n",
       "      <td>0</td>\n",
       "      <td>1</td>\n",
       "      <td>0</td>\n",
       "      <td>0</td>\n",
       "      <td>0</td>\n",
       "      <td>0</td>\n",
       "      <td>0</td>\n",
       "      <td>0</td>\n",
       "      <td>0</td>\n",
       "    </tr>\n",
       "    <tr>\n",
       "      <th>2</th>\n",
       "      <td>1493</td>\n",
       "      <td>1</td>\n",
       "      <td>8</td>\n",
       "      <td>1</td>\n",
       "      <td>1</td>\n",
       "      <td>1</td>\n",
       "      <td>2</td>\n",
       "      <td>0</td>\n",
       "      <td>1</td>\n",
       "      <td>0</td>\n",
       "      <td>...</td>\n",
       "      <td>0</td>\n",
       "      <td>0</td>\n",
       "      <td>0</td>\n",
       "      <td>0</td>\n",
       "      <td>0</td>\n",
       "      <td>0</td>\n",
       "      <td>0</td>\n",
       "      <td>0</td>\n",
       "      <td>0</td>\n",
       "      <td>0</td>\n",
       "    </tr>\n",
       "    <tr>\n",
       "      <th>3</th>\n",
       "      <td>1758</td>\n",
       "      <td>1</td>\n",
       "      <td>9</td>\n",
       "      <td>2</td>\n",
       "      <td>1</td>\n",
       "      <td>2</td>\n",
       "      <td>0</td>\n",
       "      <td>0</td>\n",
       "      <td>0</td>\n",
       "      <td>0</td>\n",
       "      <td>...</td>\n",
       "      <td>0</td>\n",
       "      <td>0</td>\n",
       "      <td>0</td>\n",
       "      <td>0</td>\n",
       "      <td>0</td>\n",
       "      <td>0</td>\n",
       "      <td>0</td>\n",
       "      <td>0</td>\n",
       "      <td>0</td>\n",
       "      <td>0</td>\n",
       "    </tr>\n",
       "    <tr>\n",
       "      <th>4</th>\n",
       "      <td>2094</td>\n",
       "      <td>1</td>\n",
       "      <td>9</td>\n",
       "      <td>2</td>\n",
       "      <td>1</td>\n",
       "      <td>3</td>\n",
       "      <td>3</td>\n",
       "      <td>0</td>\n",
       "      <td>1</td>\n",
       "      <td>0</td>\n",
       "      <td>...</td>\n",
       "      <td>0</td>\n",
       "      <td>0</td>\n",
       "      <td>0</td>\n",
       "      <td>0</td>\n",
       "      <td>0</td>\n",
       "      <td>0</td>\n",
       "      <td>0</td>\n",
       "      <td>0</td>\n",
       "      <td>0</td>\n",
       "      <td>0</td>\n",
       "    </tr>\n",
       "  </tbody>\n",
       "</table>\n",
       "<p>5 rows × 2986 columns</p>\n",
       "</div>"
      ],
      "text/plain": [
       "   gameDuration  winner  t1_towerKills  t1_inhibitorKills  t1_baronKills  \\\n",
       "0          1949       1             11                  1              2   \n",
       "1          1851       1             10                  4              0   \n",
       "2          1493       1              8                  1              1   \n",
       "3          1758       1              9                  2              1   \n",
       "4          2094       1              9                  2              1   \n",
       "\n",
       "   t1_dragonKills  t2_towerKills  t2_inhibitorKills  t2_dragonKills  \\\n",
       "0               3              5                  0               1   \n",
       "1               2              2                  0               0   \n",
       "2               1              2                  0               1   \n",
       "3               2              0                  0               0   \n",
       "4               3              3                  0               1   \n",
       "\n",
       "   firstBlood_0  ...  t2_ban5_268  t2_ban5_412  t2_ban5_420  t2_ban5_421  \\\n",
       "0             0  ...            0            0            0            0   \n",
       "1             0  ...            0            0            1            0   \n",
       "2             0  ...            0            0            0            0   \n",
       "3             0  ...            0            0            0            0   \n",
       "4             0  ...            0            0            0            0   \n",
       "\n",
       "   t2_ban5_427  t2_ban5_429  t2_ban5_432  t2_ban5_497  t2_ban5_498  \\\n",
       "0            0            0            0            0            0   \n",
       "1            0            0            0            0            0   \n",
       "2            0            0            0            0            0   \n",
       "3            0            0            0            0            0   \n",
       "4            0            0            0            0            0   \n",
       "\n",
       "   t2_ban5_516  \n",
       "0            0  \n",
       "1            0  \n",
       "2            0  \n",
       "3            0  \n",
       "4            0  \n",
       "\n",
       "[5 rows x 2986 columns]"
      ]
     },
     "execution_count": 56,
     "metadata": {},
     "output_type": "execute_result"
    }
   ],
   "source": [
    "df_with_dummies.head()"
   ]
  },
  {
   "cell_type": "code",
   "execution_count": 57,
   "metadata": {
    "ExecuteTime": {
     "end_time": "2019-12-03T15:43:01.875092Z",
     "start_time": "2019-12-03T15:43:01.870106Z"
    },
    "colab": {
     "base_uri": "https://localhost:8080/",
     "height": 153
    },
    "colab_type": "code",
    "id": "tab1Sl2E4LRR",
    "outputId": "7ec5843c-bda5-4d6c-ded4-c60de0ddbf6d"
   },
   "outputs": [
    {
     "data": {
      "text/plain": [
       "Index(['gameDuration', 'winner', 't1_towerKills', 't1_inhibitorKills',\n",
       "       't1_baronKills', 't1_dragonKills', 't2_towerKills', 't2_inhibitorKills',\n",
       "       't2_dragonKills', 'firstBlood_0',\n",
       "       ...\n",
       "       't2_ban5_268', 't2_ban5_412', 't2_ban5_420', 't2_ban5_421',\n",
       "       't2_ban5_427', 't2_ban5_429', 't2_ban5_432', 't2_ban5_497',\n",
       "       't2_ban5_498', 't2_ban5_516'],\n",
       "      dtype='object', length=2986)"
      ]
     },
     "execution_count": 57,
     "metadata": {},
     "output_type": "execute_result"
    }
   ],
   "source": [
    "df_with_dummies.columns"
   ]
  },
  {
   "cell_type": "code",
   "execution_count": 58,
   "metadata": {
    "ExecuteTime": {
     "end_time": "2019-12-03T15:43:02.004746Z",
     "start_time": "2019-12-03T15:43:01.876090Z"
    },
    "colab": {
     "base_uri": "https://localhost:8080/",
     "height": 102
    },
    "colab_type": "code",
    "id": "USM6UPv24LRT",
    "outputId": "978d87de-12eb-44b2-8c07-7c0e603391b0"
   },
   "outputs": [
    {
     "name": "stdout",
     "output_type": "stream",
     "text": [
      "<class 'pandas.core.frame.DataFrame'>\n",
      "RangeIndex: 51490 entries, 0 to 51489\n",
      "Columns: 2986 entries, gameDuration to t2_ban5_516\n",
      "dtypes: int64(9), uint8(2977)\n",
      "memory usage: 149.7 MB\n"
     ]
    }
   ],
   "source": [
    "df_with_dummies.info()"
   ]
  },
  {
   "cell_type": "markdown",
   "metadata": {
    "colab_type": "text",
    "id": "m5VOgQx6SCWQ"
   },
   "source": [
    "# Issues with Using the full dataset\n",
    "1. It takes several hours to run a Random Forest algorithm. I wasn't able to get the SVM or AdaBoost to finish running. I will work on those.\n",
    "2. In the meantime I would prefer to select certain columns that I believe would be better predictors. Some features that keep appearing as most important may have a little too much impact on the game. Such as most turrets killed or most inhibitors killed. I want to see if anything that happens early game such as first turret or other features can still predict with high accuracies seen with the full dataset. \n",
    "3. Adding all the champs also may be what is slowing down the algorithms. I will for the time being remove those too. "
   ]
  },
  {
   "cell_type": "code",
   "execution_count": 59,
   "metadata": {
    "ExecuteTime": {
     "end_time": "2019-12-03T15:43:02.413697Z",
     "start_time": "2019-12-03T15:43:02.005743Z"
    },
    "colab": {},
    "colab_type": "code",
    "id": "4z2oSMgQTL8N"
   },
   "outputs": [],
   "source": [
    "#small dataset with minimum features \n",
    "small_categorical_feature_list = ['firstBaron', 'firstDragon', 'firstBlood', 'firstInhibitor', 'firstRiftHerald', 'firstTower',]\n",
    "\n",
    "small_continuous_feature_list = ['winner','gameDuration', 't1_dragonKills', 't1_baronKills',\n",
    "                           't2_dragonKills']\n",
    "\n",
    "\n",
    "small_df_with_dummies = df.copy()\n",
    "\n",
    "for column in df.columns:\n",
    "    if column in small_continuous_feature_list:\n",
    "        continue\n",
    "    elif column in small_categorical_feature_list:\n",
    "        dummies = pd.get_dummies(df[column], prefix=column, drop_first=True)\n",
    "        small_df_with_dummies = pd.concat([small_df_with_dummies, dummies], axis=1)\n",
    "        small_df_with_dummies = small_df_with_dummies.drop(columns=[column])\n",
    "    else:\n",
    "        small_df_with_dummies = small_df_with_dummies.drop(columns=[column])"
   ]
  },
  {
   "cell_type": "code",
   "execution_count": 60,
   "metadata": {
    "ExecuteTime": {
     "end_time": "2019-12-03T15:43:02.424638Z",
     "start_time": "2019-12-03T15:43:02.414666Z"
    },
    "colab": {
     "base_uri": "https://localhost:8080/",
     "height": 224
    },
    "colab_type": "code",
    "id": "PR3nbv-pXNh6",
    "outputId": "c2d626c8-fda6-46fe-cc7b-01ace32b788e"
   },
   "outputs": [
    {
     "data": {
      "text/html": [
       "<div>\n",
       "<style scoped>\n",
       "    .dataframe tbody tr th:only-of-type {\n",
       "        vertical-align: middle;\n",
       "    }\n",
       "\n",
       "    .dataframe tbody tr th {\n",
       "        vertical-align: top;\n",
       "    }\n",
       "\n",
       "    .dataframe thead th {\n",
       "        text-align: right;\n",
       "    }\n",
       "</style>\n",
       "<table border=\"1\" class=\"dataframe\">\n",
       "  <thead>\n",
       "    <tr style=\"text-align: right;\">\n",
       "      <th></th>\n",
       "      <th>gameDuration</th>\n",
       "      <th>winner</th>\n",
       "      <th>t1_baronKills</th>\n",
       "      <th>t1_dragonKills</th>\n",
       "      <th>t2_dragonKills</th>\n",
       "      <th>firstBlood_1</th>\n",
       "      <th>firstBlood_2</th>\n",
       "      <th>firstTower_1</th>\n",
       "      <th>firstTower_2</th>\n",
       "      <th>firstInhibitor_1</th>\n",
       "      <th>firstInhibitor_2</th>\n",
       "      <th>firstBaron_1</th>\n",
       "      <th>firstBaron_2</th>\n",
       "      <th>firstDragon_1</th>\n",
       "      <th>firstDragon_2</th>\n",
       "      <th>firstRiftHerald_1</th>\n",
       "      <th>firstRiftHerald_2</th>\n",
       "    </tr>\n",
       "  </thead>\n",
       "  <tbody>\n",
       "    <tr>\n",
       "      <th>0</th>\n",
       "      <td>1949</td>\n",
       "      <td>1</td>\n",
       "      <td>2</td>\n",
       "      <td>3</td>\n",
       "      <td>1</td>\n",
       "      <td>0</td>\n",
       "      <td>1</td>\n",
       "      <td>1</td>\n",
       "      <td>0</td>\n",
       "      <td>1</td>\n",
       "      <td>0</td>\n",
       "      <td>1</td>\n",
       "      <td>0</td>\n",
       "      <td>1</td>\n",
       "      <td>0</td>\n",
       "      <td>0</td>\n",
       "      <td>1</td>\n",
       "    </tr>\n",
       "    <tr>\n",
       "      <th>1</th>\n",
       "      <td>1851</td>\n",
       "      <td>1</td>\n",
       "      <td>0</td>\n",
       "      <td>2</td>\n",
       "      <td>0</td>\n",
       "      <td>1</td>\n",
       "      <td>0</td>\n",
       "      <td>1</td>\n",
       "      <td>0</td>\n",
       "      <td>1</td>\n",
       "      <td>0</td>\n",
       "      <td>0</td>\n",
       "      <td>0</td>\n",
       "      <td>1</td>\n",
       "      <td>0</td>\n",
       "      <td>1</td>\n",
       "      <td>0</td>\n",
       "    </tr>\n",
       "    <tr>\n",
       "      <th>2</th>\n",
       "      <td>1493</td>\n",
       "      <td>1</td>\n",
       "      <td>1</td>\n",
       "      <td>1</td>\n",
       "      <td>1</td>\n",
       "      <td>0</td>\n",
       "      <td>1</td>\n",
       "      <td>1</td>\n",
       "      <td>0</td>\n",
       "      <td>1</td>\n",
       "      <td>0</td>\n",
       "      <td>1</td>\n",
       "      <td>0</td>\n",
       "      <td>0</td>\n",
       "      <td>1</td>\n",
       "      <td>0</td>\n",
       "      <td>0</td>\n",
       "    </tr>\n",
       "    <tr>\n",
       "      <th>3</th>\n",
       "      <td>1758</td>\n",
       "      <td>1</td>\n",
       "      <td>1</td>\n",
       "      <td>2</td>\n",
       "      <td>0</td>\n",
       "      <td>1</td>\n",
       "      <td>0</td>\n",
       "      <td>1</td>\n",
       "      <td>0</td>\n",
       "      <td>1</td>\n",
       "      <td>0</td>\n",
       "      <td>1</td>\n",
       "      <td>0</td>\n",
       "      <td>1</td>\n",
       "      <td>0</td>\n",
       "      <td>0</td>\n",
       "      <td>0</td>\n",
       "    </tr>\n",
       "    <tr>\n",
       "      <th>4</th>\n",
       "      <td>2094</td>\n",
       "      <td>1</td>\n",
       "      <td>1</td>\n",
       "      <td>3</td>\n",
       "      <td>1</td>\n",
       "      <td>0</td>\n",
       "      <td>1</td>\n",
       "      <td>1</td>\n",
       "      <td>0</td>\n",
       "      <td>1</td>\n",
       "      <td>0</td>\n",
       "      <td>1</td>\n",
       "      <td>0</td>\n",
       "      <td>1</td>\n",
       "      <td>0</td>\n",
       "      <td>0</td>\n",
       "      <td>0</td>\n",
       "    </tr>\n",
       "  </tbody>\n",
       "</table>\n",
       "</div>"
      ],
      "text/plain": [
       "   gameDuration  winner  t1_baronKills  t1_dragonKills  t2_dragonKills  \\\n",
       "0          1949       1              2               3               1   \n",
       "1          1851       1              0               2               0   \n",
       "2          1493       1              1               1               1   \n",
       "3          1758       1              1               2               0   \n",
       "4          2094       1              1               3               1   \n",
       "\n",
       "   firstBlood_1  firstBlood_2  firstTower_1  firstTower_2  firstInhibitor_1  \\\n",
       "0             0             1             1             0                 1   \n",
       "1             1             0             1             0                 1   \n",
       "2             0             1             1             0                 1   \n",
       "3             1             0             1             0                 1   \n",
       "4             0             1             1             0                 1   \n",
       "\n",
       "   firstInhibitor_2  firstBaron_1  firstBaron_2  firstDragon_1  firstDragon_2  \\\n",
       "0                 0             1             0              1              0   \n",
       "1                 0             0             0              1              0   \n",
       "2                 0             1             0              0              1   \n",
       "3                 0             1             0              1              0   \n",
       "4                 0             1             0              1              0   \n",
       "\n",
       "   firstRiftHerald_1  firstRiftHerald_2  \n",
       "0                  0                  1  \n",
       "1                  1                  0  \n",
       "2                  0                  0  \n",
       "3                  0                  0  \n",
       "4                  0                  0  "
      ]
     },
     "execution_count": 60,
     "metadata": {},
     "output_type": "execute_result"
    }
   ],
   "source": [
    "small_df_with_dummies.head()"
   ]
  },
  {
   "cell_type": "code",
   "execution_count": 78,
   "metadata": {
    "ExecuteTime": {
     "end_time": "2019-12-03T15:52:36.366826Z",
     "start_time": "2019-12-03T15:52:36.347853Z"
    }
   },
   "outputs": [
    {
     "name": "stdout",
     "output_type": "stream",
     "text": [
      "<class 'pandas.core.frame.DataFrame'>\n",
      "RangeIndex: 51490 entries, 0 to 51489\n",
      "Data columns (total 17 columns):\n",
      "gameDuration         51490 non-null int64\n",
      "winner               51490 non-null int64\n",
      "t1_baronKills        51490 non-null int64\n",
      "t1_dragonKills       51490 non-null int64\n",
      "t2_dragonKills       51490 non-null int64\n",
      "firstBlood_1         51490 non-null uint8\n",
      "firstBlood_2         51490 non-null uint8\n",
      "firstTower_1         51490 non-null uint8\n",
      "firstTower_2         51490 non-null uint8\n",
      "firstInhibitor_1     51490 non-null uint8\n",
      "firstInhibitor_2     51490 non-null uint8\n",
      "firstBaron_1         51490 non-null uint8\n",
      "firstBaron_2         51490 non-null uint8\n",
      "firstDragon_1        51490 non-null uint8\n",
      "firstDragon_2        51490 non-null uint8\n",
      "firstRiftHerald_1    51490 non-null uint8\n",
      "firstRiftHerald_2    51490 non-null uint8\n",
      "dtypes: int64(5), uint8(12)\n",
      "memory usage: 2.6 MB\n"
     ]
    }
   ],
   "source": [
    "small_df_with_dummies.info()"
   ]
  },
  {
   "cell_type": "markdown",
   "metadata": {
    "colab_type": "text",
    "id": "l6kJzl7l4LRa"
   },
   "source": [
    "# Break into test and train"
   ]
  },
  {
   "cell_type": "code",
   "execution_count": 61,
   "metadata": {
    "ExecuteTime": {
     "end_time": "2019-12-03T15:43:02.437616Z",
     "start_time": "2019-12-03T15:43:02.426619Z"
    },
    "colab": {},
    "colab_type": "code",
    "id": "PIc_Girk4LRa"
   },
   "outputs": [],
   "source": [
    "X = small_df_with_dummies.drop(columns=['winner'])\n",
    "y = small_df_with_dummies['winner']\n",
    "\n",
    "X_train, X_test, y_train, y_test = train_test_split(X, y, test_size=0.2)"
   ]
  },
  {
   "cell_type": "markdown",
   "metadata": {
    "colab_type": "text",
    "id": "vsdC9cTU4LRc"
   },
   "source": [
    "# Run Decision Tree Pipeline w/ Standard Scaler"
   ]
  },
  {
   "cell_type": "markdown",
   "metadata": {
    "colab_type": "text",
    "id": "VxoDZsBo4LRd"
   },
   "source": [
    "I am running a Decision Tree Classifier first to have a baseline"
   ]
  },
  {
   "cell_type": "code",
   "execution_count": 62,
   "metadata": {
    "ExecuteTime": {
     "end_time": "2019-12-03T15:43:05.642267Z",
     "start_time": "2019-12-03T15:43:02.439589Z"
    },
    "colab": {
     "base_uri": "https://localhost:8080/",
     "height": 442
    },
    "colab_type": "code",
    "id": "Rd1G_prn4LRe",
    "outputId": "bba0708a-5c12-4528-c3a2-048e288e77d6"
   },
   "outputs": [
    {
     "data": {
      "text/plain": [
       "GridSearchCV(cv=3, error_score='raise-deprecating',\n",
       "             estimator=Pipeline(memory=None,\n",
       "                                steps=[('scaler',\n",
       "                                        StandardScaler(copy=True,\n",
       "                                                       with_mean=True,\n",
       "                                                       with_std=True)),\n",
       "                                       ('clf',\n",
       "                                        DecisionTreeClassifier(class_weight=None,\n",
       "                                                               criterion='gini',\n",
       "                                                               max_depth=None,\n",
       "                                                               max_features=None,\n",
       "                                                               max_leaf_nodes=None,\n",
       "                                                               min_impurity_decrease=0.0,\n",
       "                                                               min_impurity_split=None,\n",
       "                                                               min_samples_leaf=1,\n",
       "                                                               min_samples_split=2,\n",
       "                                                               min_weight_fraction_leaf=0.0,\n",
       "                                                               presort=False,\n",
       "                                                               random_state=None,\n",
       "                                                               splitter='best'))],\n",
       "                                verbose=False),\n",
       "             iid='warn', n_jobs=2,\n",
       "             param_grid=[{'clf__max_depth': [5, 10, 15, 20, 50, 100]}],\n",
       "             pre_dispatch='2*n_jobs', refit=True, return_train_score=False,\n",
       "             scoring='accuracy', verbose=0)"
      ]
     },
     "execution_count": 62,
     "metadata": {},
     "output_type": "execute_result"
    }
   ],
   "source": [
    "pipe_dt = Pipeline([('scaler', StandardScaler()),\n",
    "                    ('clf', DecisionTreeClassifier())])\n",
    "\n",
    "param_grid_tree = [\n",
    "    {'clf__max_depth': [5, 10, 15, 20, 50, 100]}\n",
    "]\n",
    "\n",
    "gs_dt = GridSearchCV(estimator=pipe_dt,\n",
    "                    param_grid=param_grid_tree,\n",
    "                    scoring='accuracy',\n",
    "                    cv=3, n_jobs=2)\n",
    "\n",
    "gs_dt.fit(X_train,y_train)"
   ]
  },
  {
   "cell_type": "code",
   "execution_count": 63,
   "metadata": {
    "ExecuteTime": {
     "end_time": "2019-12-03T15:43:05.889605Z",
     "start_time": "2019-12-03T15:43:05.643265Z"
    },
    "colab": {
     "base_uri": "https://localhost:8080/",
     "height": 615
    },
    "colab_type": "code",
    "id": "XEEsGAu24LRg",
    "outputId": "e3deda8a-833f-4f0d-8671-4f67ac9ec4fb"
   },
   "outputs": [
    {
     "name": "stdout",
     "output_type": "stream",
     "text": [
      "Best accuracy 0.906\n",
      "\n",
      "Best params:\n",
      " {'clf__max_depth': 5}\n",
      "f1 score:  0.9012052766442061\n"
     ]
    },
    {
     "data": {
      "image/png": "[encoded data removed]",
      "text/plain": [
       "<Figure size 432x288 with 2 Axes>"
      ]
     },
     "metadata": {
      "needs_background": "light"
     },
     "output_type": "display_data"
    },
    {
     "data": {
      "image/png": "[encoded data removed]",
      "text/plain": [
       "<Figure size 432x288 with 1 Axes>"
      ]
     },
     "metadata": {
      "needs_background": "light"
     },
     "output_type": "display_data"
    }
   ],
   "source": [
    "#Best Accuracy\n",
    "print('Best accuracy %.3f' % gs_dt.best_score_)\n",
    "\n",
    "#Best Params\n",
    "print('\\nBest params:\\n', gs_dt.best_params_)\n",
    "\n",
    "get_metrics(gs_dt, X_test, y_test)\n",
    "\n",
    "get_best_features(get_best_pipeline(gs_dt), X_train)"
   ]
  },
  {
   "cell_type": "markdown",
   "metadata": {
    "colab_type": "text",
    "id": "Wp5bTBqp4LRi"
   },
   "source": [
    "### Observations:\n",
    "- Destroying the first inhibitor is the best feature in predicting the winner according to a Decision Tree. 90% accuracy is pretty high and would be considered a great model. I will show the winning percentages based on this feature next."
   ]
  },
  {
   "cell_type": "code",
   "execution_count": 64,
   "metadata": {
    "ExecuteTime": {
     "end_time": "2019-12-03T15:43:05.926509Z",
     "start_time": "2019-12-03T15:43:05.892597Z"
    },
    "colab": {
     "base_uri": "https://localhost:8080/",
     "height": 51
    },
    "colab_type": "code",
    "id": "aKYhg4Tioz5T",
    "outputId": "7d7ee2e0-4c39-4cae-cb9d-426be2de3082"
   },
   "outputs": [
    {
     "name": "stdout",
     "output_type": "stream",
     "text": [
      "Team 2 wins 20242 out of 22160 games or 91.34% of games where they destroyed the first inhibitor.\n",
      "Team 1 wins 20949 out of 23054 games or 90.87% of games where they destroyed the first inhibitor.\n"
     ]
    }
   ],
   "source": [
    "wins = len(df[df.firstInhibitor == 2])\n",
    "t2_wins = len(df[(df.winner == 2) & (df.firstInhibitor == 2)])\n",
    "\n",
    "print('Team 2 wins {} out of {} games or {}% of games where they destroyed the first inhibitor.'.format(\n",
    "    t2_wins, wins, round(t2_wins/wins*100, 2)))\n",
    "\n",
    "wins_1 = len(df[df.firstInhibitor == 1])\n",
    "t1_wins = len(df[(df.winner == 1) & (df.firstInhibitor == 1)])\n",
    "\n",
    "print('Team 1 wins {} out of {} games or {}% of games where they destroyed the first inhibitor.'.format(\n",
    "    t1_wins, wins_1, round(t1_wins/wins_1*100, 2)))"
   ]
  },
  {
   "cell_type": "markdown",
   "metadata": {
    "colab_type": "text",
    "id": "6TBVFsF7uqEw"
   },
   "source": [
    "- When a team destroys the first inhibitor, they win roughly 90% of the games. Losing the first inhibitor is not a sign that the game is over when you are playing, but it does make it much harder and you do have to defend more. "
   ]
  },
  {
   "cell_type": "markdown",
   "metadata": {
    "colab_type": "text",
    "id": "4cU21un94LRj"
   },
   "source": [
    "# Use PCA, run Decision Tree Again"
   ]
  },
  {
   "cell_type": "markdown",
   "metadata": {},
   "source": [
    "## Heatmap showing correlation of features before PCA"
   ]
  },
  {
   "cell_type": "code",
   "execution_count": 83,
   "metadata": {
    "ExecuteTime": {
     "end_time": "2019-12-03T16:49:53.453041Z",
     "start_time": "2019-12-03T16:49:53.154842Z"
    }
   },
   "outputs": [
    {
     "data": {
      "image/png": "[encoded data removed]",
      "text/plain": [
       "<Figure size 432x288 with 2 Axes>"
      ]
     },
     "metadata": {
      "needs_background": "light"
     },
     "output_type": "display_data"
    }
   ],
   "source": [
    "sns.heatmap(X_train.corr(), center=0);"
   ]
  },
  {
   "cell_type": "markdown",
   "metadata": {
    "ExecuteTime": {
     "end_time": "2019-11-20T16:33:26.418486Z",
     "start_time": "2019-11-20T16:33:26.415493Z"
    },
    "colab_type": "text",
    "id": "Mmwngrb-4LRj"
   },
   "source": [
    "## Find the number of features that allows for 95% of variance to be kept"
   ]
  },
  {
   "cell_type": "code",
   "execution_count": 65,
   "metadata": {
    "ExecuteTime": {
     "end_time": "2019-12-03T15:43:05.979365Z",
     "start_time": "2019-12-03T15:43:05.928501Z"
    },
    "colab": {
     "base_uri": "https://localhost:8080/",
     "height": 34
    },
    "colab_type": "code",
    "id": "f57_mF0L4LRk",
    "outputId": "7eebf6f6-3eed-450d-d44a-abc37c2442dc"
   },
   "outputs": [
    {
     "name": "stdout",
     "output_type": "stream",
     "text": [
      "Number features: 10\tTotal Variance Explained: 0.9689073301205878\n"
     ]
    }
   ],
   "source": [
    "scaler = StandardScaler()\n",
    "X_train_scaled = scaler.fit_transform(X_train)\n",
    "\n",
    "pca = PCA()\n",
    "X_pca = pca.fit_transform(X_train_scaled)\n",
    "\n",
    "total_explained_variance = pca.explained_variance_ratio_.cumsum()\n",
    "n_over_95 = len(total_explained_variance[total_explained_variance >= .95])\n",
    "n_to_reach_95 = X.shape[1] - n_over_95 + 1\n",
    "print(\"Number features: {}\\tTotal Variance Explained: {}\".format(n_to_reach_95, total_explained_variance[n_to_reach_95-1]))"
   ]
  },
  {
   "cell_type": "markdown",
   "metadata": {
    "ExecuteTime": {
     "end_time": "2019-12-03T16:50:37.006707Z",
     "start_time": "2019-12-03T16:50:37.003715Z"
    }
   },
   "source": [
    "## Heatmap showing correlation after PCA"
   ]
  },
  {
   "cell_type": "code",
   "execution_count": 85,
   "metadata": {
    "ExecuteTime": {
     "end_time": "2019-12-03T16:52:56.481489Z",
     "start_time": "2019-12-03T16:52:56.275037Z"
    }
   },
   "outputs": [
    {
     "data": {
      "text/plain": [
       "<matplotlib.axes._subplots.AxesSubplot at 0x1c98639d2b0>"
      ]
     },
     "execution_count": 85,
     "metadata": {},
     "output_type": "execute_result"
    },
    {
     "data": {
      "image/png": "[encoded data removed]",
      "text/plain": [
       "<Figure size 432x288 with 2 Axes>"
      ]
     },
     "metadata": {
      "needs_background": "light"
     },
     "output_type": "display_data"
    }
   ],
   "source": [
    "sns.heatmap(pd.DataFrame(X_pca).corr(), center=0)"
   ]
  },
  {
   "cell_type": "markdown",
   "metadata": {},
   "source": [
    "### Observations:\n",
    "- Now there is no correlation between any features with another feature\n",
    "- There is also less features for the machine learning algorithms to have to deal with, so it also saves time\n",
    "- PCA can also help to prevent overfitting"
   ]
  },
  {
   "cell_type": "markdown",
   "metadata": {},
   "source": [
    "## Decision Tree with PCA"
   ]
  },
  {
   "cell_type": "code",
   "execution_count": 66,
   "metadata": {
    "ExecuteTime": {
     "end_time": "2019-12-03T15:43:10.371661Z",
     "start_time": "2019-12-03T15:43:05.980363Z"
    },
    "colab": {
     "base_uri": "https://localhost:8080/",
     "height": 527
    },
    "colab_type": "code",
    "id": "Y1Ae5OGg4LRm",
    "outputId": "edb1caed-5c6d-4ac4-8281-5a716165c9fe"
   },
   "outputs": [
    {
     "data": {
      "text/plain": [
       "GridSearchCV(cv=3, error_score='raise-deprecating',\n",
       "             estimator=Pipeline(memory=None,\n",
       "                                steps=[('scaler',\n",
       "                                        StandardScaler(copy=True,\n",
       "                                                       with_mean=True,\n",
       "                                                       with_std=True)),\n",
       "                                       ('pca',\n",
       "                                        PCA(copy=True, iterated_power='auto',\n",
       "                                            n_components=12, random_state=None,\n",
       "                                            svd_solver='auto', tol=0.0,\n",
       "                                            whiten=False)),\n",
       "                                       ('clf',\n",
       "                                        DecisionTreeClassifier(class_weight=None,\n",
       "                                                               criterion='gini',\n",
       "                                                               max_depth=5,\n",
       "                                                               m...\n",
       "                                                               max_leaf_nodes=None,\n",
       "                                                               min_impurity_decrease=0.0,\n",
       "                                                               min_impurity_split=None,\n",
       "                                                               min_samples_leaf=1,\n",
       "                                                               min_samples_split=2,\n",
       "                                                               min_weight_fraction_leaf=0.0,\n",
       "                                                               presort=False,\n",
       "                                                               random_state=None,\n",
       "                                                               splitter='best'))],\n",
       "                                verbose=False),\n",
       "             iid='warn', n_jobs=2,\n",
       "             param_grid=[{'clf__max_depth': [5, 10, 15, 20, 50, 100]}],\n",
       "             pre_dispatch='2*n_jobs', refit=True, return_train_score=False,\n",
       "             scoring='accuracy', verbose=0)"
      ]
     },
     "execution_count": 66,
     "metadata": {},
     "output_type": "execute_result"
    }
   ],
   "source": [
    "pipe_pca_dt = Pipeline([('scaler', StandardScaler()),\n",
    "                    ('pca', PCA(n_components=n_to_reach_95)),\n",
    "                    ('clf', DecisionTreeClassifier(max_depth=5))])\n",
    "\n",
    "param_grid_tree = [\n",
    "    {'clf__max_depth': [5, 10, 15, 20, 50, 100]}\n",
    "]\n",
    "\n",
    "gs_dt_pca = GridSearchCV(estimator=pipe_pca_dt,\n",
    "                    param_grid=param_grid_tree,\n",
    "                    scoring='accuracy',\n",
    "                    cv=3, n_jobs=2)\n",
    "\n",
    "gs_dt_pca.fit(X_train,y_train)"
   ]
  },
  {
   "cell_type": "code",
   "execution_count": 67,
   "metadata": {
    "ExecuteTime": {
     "end_time": "2019-12-03T15:43:10.612119Z",
     "start_time": "2019-12-03T15:43:10.372660Z"
    },
    "colab": {
     "base_uri": "https://localhost:8080/",
     "height": 612
    },
    "colab_type": "code",
    "id": "We71lr5U4LRo",
    "outputId": "3ffdbd86-f046-4de4-e77c-ad59a44efde3"
   },
   "outputs": [
    {
     "name": "stdout",
     "output_type": "stream",
     "text": [
      "Best accuracy 0.901\n",
      "\n",
      "Best params:\n",
      " {'clf__max_depth': 5}\n",
      "f1 score:  0.8982732732732732\n"
     ]
    },
    {
     "data": {
      "image/png": "[encoded data removed]",
      "text/plain": [
       "<Figure size 432x288 with 2 Axes>"
      ]
     },
     "metadata": {
      "needs_background": "light"
     },
     "output_type": "display_data"
    },
    {
     "data": {
      "image/png": "[encoded data removed]",
      "text/plain": [
       "<Figure size 432x288 with 1 Axes>"
      ]
     },
     "metadata": {
      "needs_background": "light"
     },
     "output_type": "display_data"
    }
   ],
   "source": [
    "#Best Accuracy\n",
    "print('Best accuracy %.3f' % gs_dt_pca.best_score_)\n",
    "\n",
    "#Best Params\n",
    "print('\\nBest params:\\n', gs_dt_pca.best_params_)\n",
    "\n",
    "get_metrics(gs_dt_pca, X_test, y_test)\n",
    "\n",
    "get_best_features(get_best_pipeline(gs_dt_pca), X_train, pca=True)"
   ]
  },
  {
   "cell_type": "markdown",
   "metadata": {
    "ExecuteTime": {
     "end_time": "2019-12-03T16:57:23.127339Z",
     "start_time": "2019-12-03T16:57:23.122384Z"
    }
   },
   "source": [
    "### Observations:\n",
    "- Even after running PCA, the first inhibitor destroyed seems to be the best indicator of who will win.\n",
    "- The scores and metrics are about the same even after running PCA"
   ]
  },
  {
   "cell_type": "markdown",
   "metadata": {
    "colab_type": "text",
    "id": "92uYfOI-4LRr"
   },
   "source": [
    "# Random Forest\n"
   ]
  },
  {
   "cell_type": "code",
   "execution_count": 68,
   "metadata": {
    "ExecuteTime": {
     "end_time": "2019-12-03T15:45:38.327682Z",
     "start_time": "2019-12-03T15:43:10.613116Z"
    },
    "colab": {
     "base_uri": "https://localhost:8080/",
     "height": 476
    },
    "colab_type": "code",
    "id": "ac3oJJA74LRs",
    "outputId": "5cdb2016-add9-49d6-dea0-4ad49bc87a6e"
   },
   "outputs": [
    {
     "data": {
      "text/plain": [
       "GridSearchCV(cv=3, error_score='raise-deprecating',\n",
       "             estimator=Pipeline(memory=None,\n",
       "                                steps=[('scaler',\n",
       "                                        StandardScaler(copy=True,\n",
       "                                                       with_mean=True,\n",
       "                                                       with_std=True)),\n",
       "                                       ('pca',\n",
       "                                        PCA(copy=True, iterated_power='auto',\n",
       "                                            n_components=12, random_state=None,\n",
       "                                            svd_solver='auto', tol=0.0,\n",
       "                                            whiten=False)),\n",
       "                                       ('clf',\n",
       "                                        RandomForestClassifier(bootstrap=True,\n",
       "                                                               class_weight=None,\n",
       "                                                               criterion='gini...\n",
       "                                                               random_state=None,\n",
       "                                                               verbose=0,\n",
       "                                                               warm_start=False))],\n",
       "                                verbose=False),\n",
       "             iid='warn', n_jobs=2,\n",
       "             param_grid=[{'clf__criterion': ['entropy', 'gini'],\n",
       "                          'clf__max_depth': [4, 5, 6],\n",
       "                          'clf__min_samples_leaf': [0.05, 0.1, 0.2],\n",
       "                          'clf__min_samples_split': [0.05, 0.1, 0.2],\n",
       "                          'clf__n_estimators': [120]}],\n",
       "             pre_dispatch='2*n_jobs', refit=True, return_train_score=False,\n",
       "             scoring='accuracy', verbose=0)"
      ]
     },
     "execution_count": 68,
     "metadata": {},
     "output_type": "execute_result"
    }
   ],
   "source": [
    "pipe_rf = Pipeline([('scaler', StandardScaler()),\n",
    "            ('pca', PCA(n_components=n_to_reach_95)),\n",
    "            ('clf', RandomForestClassifier())])\n",
    "\n",
    "# Set grid search params\n",
    "param_grid_forest = [ \n",
    "  {'clf__n_estimators': [120],\n",
    "   'clf__criterion': ['entropy', 'gini'], \n",
    "   'clf__max_depth': [4, 5, 6],  \n",
    "   'clf__min_samples_leaf':[0.05 ,0.1, 0.2],  \n",
    "   'clf__min_samples_split':[0.05 ,0.1, 0.2]\n",
    "  }\n",
    "]\n",
    "\n",
    "# Construct grid search\n",
    "gs_rf = GridSearchCV(estimator=pipe_rf,\n",
    "            param_grid=param_grid_forest,\n",
    "            scoring='accuracy', cv=3, n_jobs=2)\n",
    "\n",
    "# Fit using grid search\n",
    "gs_rf.fit(X_train, y_train)"
   ]
  },
  {
   "cell_type": "code",
   "execution_count": 69,
   "metadata": {
    "ExecuteTime": {
     "end_time": "2019-12-03T15:45:38.620894Z",
     "start_time": "2019-12-03T15:45:38.328653Z"
    },
    "colab": {
     "base_uri": "https://localhost:8080/",
     "height": 636
    },
    "colab_type": "code",
    "id": "n9Od7B_I4LRv",
    "outputId": "3cdeb8d4-86d3-4c92-fc72-ba4e1eb9e8b0"
   },
   "outputs": [
    {
     "name": "stdout",
     "output_type": "stream",
     "text": [
      "Best accuracy 0.887\n",
      "\n",
      "Best params:\n",
      " {'clf__criterion': 'entropy', 'clf__max_depth': 6, 'clf__min_samples_leaf': 0.05, 'clf__min_samples_split': 0.05, 'clf__n_estimators': 120}\n",
      "f1 score:  0.8839561674627705\n"
     ]
    },
    {
     "data": {
      "image/png": "[encoded data removed]",
      "text/plain": [
       "<Figure size 432x288 with 2 Axes>"
      ]
     },
     "metadata": {
      "needs_background": "light"
     },
     "output_type": "display_data"
    },
    {
     "data": {
      "image/png": "[encoded data removed]",
      "text/plain": [
       "<Figure size 432x288 with 1 Axes>"
      ]
     },
     "metadata": {
      "needs_background": "light"
     },
     "output_type": "display_data"
    }
   ],
   "source": [
    "#Best Accuracy\n",
    "print('Best accuracy %.3f' % gs_rf.best_score_)\n",
    "\n",
    "#Best Params\n",
    "print('\\nBest params:\\n', gs_rf.best_params_)\n",
    "\n",
    "get_metrics(gs_rf, X_test, y_test)\n",
    "\n",
    "get_best_features(get_best_pipeline(gs_rf), X_train, pca=True)"
   ]
  },
  {
   "cell_type": "markdown",
   "metadata": {
    "colab_type": "text",
    "id": "L8uNhqPdvORn"
   },
   "source": [
    "### Observations\n",
    "- Many of the same features show up again. However I want to further explore the impact on the first Baron."
   ]
  },
  {
   "cell_type": "code",
   "execution_count": 70,
   "metadata": {
    "ExecuteTime": {
     "end_time": "2019-12-03T15:45:38.649794Z",
     "start_time": "2019-12-03T15:45:38.621869Z"
    },
    "colab": {
     "base_uri": "https://localhost:8080/",
     "height": 51
    },
    "colab_type": "code",
    "id": "4WtaVWuOvIZI",
    "outputId": "afbc1110-e3da-4d0c-dc20-7cf686e19abd"
   },
   "outputs": [
    {
     "name": "stdout",
     "output_type": "stream",
     "text": [
      "Team 2 wins 13219 out of 16474 games or 80.24% of games where they defeated the first Baron.\n",
      "Team 1 wins 11978 out of 14758 games or 81.16% of games where they defeated the first Baron.\n"
     ]
    }
   ],
   "source": [
    "wins = len(df[df.firstBaron == 2])\n",
    "t2_wins = len(df[(df.winner == 2) & (df.firstBaron == 2)])\n",
    "\n",
    "print('Team 2 wins {} out of {} games or {}% of games where they defeated the first Baron.'.format(\n",
    "    t2_wins, wins, round(t2_wins/wins*100, 2)))\n",
    "\n",
    "wins_1 = len(df[df.firstBaron == 1])\n",
    "t1_wins = len(df[(df.winner == 1) & (df.firstBaron == 1)])\n",
    "\n",
    "print('Team 1 wins {} out of {} games or {}% of games where they defeated the first Baron.'.format(\n",
    "    t1_wins, wins_1, round(t1_wins/wins_1*100, 2)))"
   ]
  },
  {
   "cell_type": "markdown",
   "metadata": {
    "colab_type": "text",
    "id": "CqR9OBv-vpUb"
   },
   "source": [
    "- 80% is still much more significant than random. Baron empowers all of your team minions and makes it much easier to take towers and inhibitors. In a late game you do not want your opponent to take Baron and make one final push against your base."
   ]
  },
  {
   "cell_type": "markdown",
   "metadata": {
    "colab_type": "text",
    "id": "tJApr4KH4LRx"
   },
   "source": [
    "# SVM\n"
   ]
  },
  {
   "cell_type": "code",
   "execution_count": 71,
   "metadata": {
    "ExecuteTime": {
     "end_time": "2019-12-03T15:49:46.733209Z",
     "start_time": "2019-12-03T15:45:38.650792Z"
    },
    "colab": {
     "base_uri": "https://localhost:8080/",
     "height": 459
    },
    "colab_type": "code",
    "id": "huJf3r9o4LRz",
    "outputId": "0999962e-947d-4fa7-9163-73fda59495a2"
   },
   "outputs": [
    {
     "data": {
      "text/plain": [
       "GridSearchCV(cv=3, error_score='raise-deprecating',\n",
       "             estimator=Pipeline(memory=None,\n",
       "                                steps=[('scaler',\n",
       "                                        StandardScaler(copy=True,\n",
       "                                                       with_mean=True,\n",
       "                                                       with_std=True)),\n",
       "                                       ('pca',\n",
       "                                        PCA(copy=True, iterated_power='auto',\n",
       "                                            n_components=12, random_state=None,\n",
       "                                            svd_solver='auto', tol=0.0,\n",
       "                                            whiten=False)),\n",
       "                                       ('clf',\n",
       "                                        SVC(C=1.0, cache_size=200,\n",
       "                                            class_weight=None, coef0=0.0,\n",
       "                                            decision_function_...\n",
       "                                            degree=3, gamma='auto_deprecated',\n",
       "                                            kernel='linear', max_iter=-1,\n",
       "                                            probability=False, random_state=123,\n",
       "                                            shrinking=True, tol=0.001,\n",
       "                                            verbose=False))],\n",
       "                                verbose=False),\n",
       "             iid='warn', n_jobs=2,\n",
       "             param_grid=[{'clf__C': [0.1, 1, 10], 'clf__kernel': ['linear']},\n",
       "                         {'clf__C': [1, 10], 'clf__gamma': [0.001, 0.01]}],\n",
       "             pre_dispatch='2*n_jobs', refit=True, return_train_score=False,\n",
       "             scoring='accuracy', verbose=0)"
      ]
     },
     "execution_count": 71,
     "metadata": {},
     "output_type": "execute_result"
    }
   ],
   "source": [
    "pipe_svm = Pipeline([('scaler', StandardScaler()),\n",
    "            ('pca', PCA(n_components=n_to_reach_95)),\n",
    "            ('clf', svm.SVC(random_state=123, kernel='linear'))])\n",
    "\n",
    "# Set grid search params\n",
    "param_grid_svm = [\n",
    "  {'clf__C': [0.1, 1, 10]  , 'clf__kernel': ['linear']},\n",
    "  {'clf__C': [1, 10], 'clf__gamma': [0.001, 0.01]},\n",
    " ]\n",
    "\n",
    "# Construct grid search\n",
    "gs_svm = GridSearchCV(estimator=pipe_svm,\n",
    "            param_grid=param_grid_svm,\n",
    "            scoring='accuracy', cv=3, n_jobs=2)\n",
    "\n",
    "# Fit using grid search\n",
    "gs_svm.fit(X_train, y_train)"
   ]
  },
  {
   "cell_type": "code",
   "execution_count": 72,
   "metadata": {
    "ExecuteTime": {
     "end_time": "2019-12-03T15:49:47.965908Z",
     "start_time": "2019-12-03T15:49:46.734178Z"
    },
    "colab": {
     "base_uri": "https://localhost:8080/",
     "height": 613
    },
    "colab_type": "code",
    "id": "UEeB_sTO4LR1",
    "outputId": "89a69357-301c-4033-96bf-80b19b19578e"
   },
   "outputs": [
    {
     "name": "stdout",
     "output_type": "stream",
     "text": [
      "Best accuracy 0.898\n",
      "\n",
      "Best params:\n",
      " {'clf__C': 10, 'clf__gamma': 0.001}\n",
      "f1 score:  0.9010021541631544\n"
     ]
    },
    {
     "data": {
      "image/png": "[encoded data removed]",
      "text/plain": [
       "<Figure size 432x288 with 2 Axes>"
      ]
     },
     "metadata": {
      "needs_background": "light"
     },
     "output_type": "display_data"
    },
    {
     "data": {
      "image/png": "[encoded data removed]",
      "text/plain": [
       "<Figure size 432x288 with 1 Axes>"
      ]
     },
     "metadata": {
      "needs_background": "light"
     },
     "output_type": "display_data"
    }
   ],
   "source": [
    "#Best Accuracy\n",
    "print('Best accuracy %.3f' % gs_svm.best_score_)\n",
    "\n",
    "#Best Params\n",
    "print('\\nBest params:\\n', gs_svm.best_params_)\n",
    "\n",
    "get_metrics(gs_svm, X_test, y_test)\n",
    "\n",
    "get_best_features(get_best_pipeline(gs_svm), X_train, pca=True, svm=True)"
   ]
  },
  {
   "cell_type": "markdown",
   "metadata": {
    "colab_type": "text",
    "id": "Hm1B2ZsxxuxL"
   },
   "source": [
    "### Observations:\n",
    "- When using SVM, the first dragon killed shows up with higher importanct than other algorithms."
   ]
  },
  {
   "cell_type": "code",
   "execution_count": 73,
   "metadata": {
    "ExecuteTime": {
     "end_time": "2019-12-03T15:49:47.999824Z",
     "start_time": "2019-12-03T15:49:47.966884Z"
    },
    "colab": {
     "base_uri": "https://localhost:8080/",
     "height": 51
    },
    "colab_type": "code",
    "id": "YNH9Ke1yyYmf",
    "outputId": "cc307f7c-242c-4a6c-b7e8-897e423303d0"
   },
   "outputs": [
    {
     "name": "stdout",
     "output_type": "stream",
     "text": [
      "Team 2 wins 16732 out of 24800 games or 67.47% of games where they defeated the first Dragon.\n",
      "Team 1 wins 16937 out of 24690 games or 68.6% of games where they defeated the first Dragon.\n"
     ]
    }
   ],
   "source": [
    "wins = len(df[df.firstDragon == 2])\n",
    "t2_wins = len(df[(df.winner == 2) & (df.firstDragon == 2)])\n",
    "\n",
    "print('Team 2 wins {} out of {} games or {}% of games where they defeated the first Dragon.'.format(\n",
    "    t2_wins, wins, round(t2_wins/wins*100, 2)))\n",
    "\n",
    "wins_1 = len(df[df.firstDragon == 1])\n",
    "t1_wins = len(df[(df.winner == 1) & (df.firstDragon == 1)])\n",
    "\n",
    "print('Team 1 wins {} out of {} games or {}% of games where they defeated the first Dragon.'.format(\n",
    "    t1_wins, wins_1, round(t1_wins/wins_1*100, 2)))"
   ]
  },
  {
   "cell_type": "markdown",
   "metadata": {
    "colab_type": "text",
    "id": "suMu91n2ynI9"
   },
   "source": [
    "When a team, either 1 or 2, defeated the first dragon they took their winning chances from about 50% to a little better than winning two-thirds of the games. This may indicate that which team has a better jungler can impact the early game more and help a team take an early lead."
   ]
  },
  {
   "cell_type": "markdown",
   "metadata": {
    "colab_type": "text",
    "id": "IkoNtUUN4LR3"
   },
   "source": [
    "# ADABoost"
   ]
  },
  {
   "cell_type": "code",
   "execution_count": 74,
   "metadata": {
    "ExecuteTime": {
     "end_time": "2019-12-03T15:50:19.129670Z",
     "start_time": "2019-12-03T15:49:48.000793Z"
    },
    "colab": {
     "base_uri": "https://localhost:8080/",
     "height": 408
    },
    "colab_type": "code",
    "id": "2vPkBZkR4LR4",
    "outputId": "589f615d-e395-44f0-db74-e1191d2d957f"
   },
   "outputs": [
    {
     "data": {
      "text/plain": [
       "GridSearchCV(cv=3, error_score='raise-deprecating',\n",
       "             estimator=Pipeline(memory=None,\n",
       "                                steps=[('scaler',\n",
       "                                        StandardScaler(copy=True,\n",
       "                                                       with_mean=True,\n",
       "                                                       with_std=True)),\n",
       "                                       ('pca',\n",
       "                                        PCA(copy=True, iterated_power='auto',\n",
       "                                            n_components=12, random_state=None,\n",
       "                                            svd_solver='auto', tol=0.0,\n",
       "                                            whiten=False)),\n",
       "                                       ('clf',\n",
       "                                        AdaBoostClassifier(algorithm='SAMME.R',\n",
       "                                                           base_estimator=None,\n",
       "                                                           learning_rate=1.0,\n",
       "                                                           n_estimators=50,\n",
       "                                                           random_state=123))],\n",
       "                                verbose=False),\n",
       "             iid='warn', n_jobs=2,\n",
       "             param_grid={'clf__learning_rate': [1.0, 0.5, 0.1],\n",
       "                         'clf__n_estimators': [30, 50, 70]},\n",
       "             pre_dispatch='2*n_jobs', refit=True, return_train_score=False,\n",
       "             scoring='accuracy', verbose=0)"
      ]
     },
     "execution_count": 74,
     "metadata": {},
     "output_type": "execute_result"
    }
   ],
   "source": [
    "pipe_ab = Pipeline([('scaler', StandardScaler()),\n",
    "            ('pca', PCA(n_components=n_to_reach_95)),\n",
    "            ('clf', AdaBoostClassifier(random_state = 123))])\n",
    "\n",
    "# Set grid search params\n",
    "adaboost_param_grid = {\n",
    "    'clf__n_estimators': [30, 50, 70],\n",
    "    'clf__learning_rate': [1.0, 0.5, 0.1]\n",
    "}\n",
    "\n",
    "# Construct grid search\n",
    "gs_ab = GridSearchCV(estimator=pipe_ab,\n",
    "            param_grid=adaboost_param_grid,\n",
    "            scoring='accuracy',\n",
    "            cv=3, n_jobs=2)\n",
    "\n",
    "# Fit using grid search\n",
    "gs_ab.fit(X_train, y_train)"
   ]
  },
  {
   "cell_type": "code",
   "execution_count": 75,
   "metadata": {
    "ExecuteTime": {
     "end_time": "2019-12-03T15:50:19.442767Z",
     "start_time": "2019-12-03T15:50:19.130666Z"
    },
    "colab": {
     "base_uri": "https://localhost:8080/",
     "height": 611
    },
    "colab_type": "code",
    "id": "5ebO4W_U4LR6",
    "outputId": "ee1df42e-b69d-4464-9aba-1665671647eb"
   },
   "outputs": [
    {
     "name": "stdout",
     "output_type": "stream",
     "text": [
      "Best accuracy 0.897\n",
      "\n",
      "Best params:\n",
      " {'clf__learning_rate': 1.0, 'clf__n_estimators': 50}\n",
      "f1 score:  0.8957682476569157\n"
     ]
    },
    {
     "data": {
      "image/png": "[encoded data removed]",
      "text/plain": [
       "<Figure size 432x288 with 2 Axes>"
      ]
     },
     "metadata": {
      "needs_background": "light"
     },
     "output_type": "display_data"
    },
    {
     "data": {
      "image/png": "[encoded data removed]",
      "text/plain": [
       "<Figure size 432x288 with 1 Axes>"
      ]
     },
     "metadata": {
      "needs_background": "light"
     },
     "output_type": "display_data"
    }
   ],
   "source": [
    "#Best Accuracy\n",
    "print('Best accuracy %.3f' % gs_ab.best_score_)\n",
    "\n",
    "#Best Params\n",
    "print('\\nBest params:\\n', gs_ab.best_params_)\n",
    "\n",
    "get_metrics(gs_ab, X_test, y_test)\n",
    "\n",
    "get_best_features(get_best_pipeline(gs_ab), X_train, pca=True)"
   ]
  },
  {
   "cell_type": "markdown",
   "metadata": {
    "colab_type": "text",
    "id": "e9xtbO1fwb2j"
   },
   "source": [
    "### Observations:\n",
    "- the first inhibitor destroyed still seems to be the best indicator of who will win. However I want to explore the Rift Heralds impact. Rift Herald is an early objective (it disappears at 20 minutes if neither team defeats it) and can give a team a significant push."
   ]
  },
  {
   "cell_type": "code",
   "execution_count": 76,
   "metadata": {
    "ExecuteTime": {
     "end_time": "2019-12-03T15:50:19.469940Z",
     "start_time": "2019-12-03T15:50:19.443737Z"
    },
    "colab": {
     "base_uri": "https://localhost:8080/",
     "height": 51
    },
    "colab_type": "code",
    "id": "72iKd8q64LR_",
    "outputId": "56db6325-2edb-4ae2-dea7-5dcb19cf024a"
   },
   "outputs": [
    {
     "name": "stdout",
     "output_type": "stream",
     "text": [
      "Team 2 wins 8588 out of 12363 games or 69.47% of games where they defeated the Rift Herald.\n",
      "Team 1 wins 8993 out of 23054 games or 39.01% of games where they defeated the Rift Herald.\n"
     ]
    }
   ],
   "source": [
    "wins = len(df[df.firstRiftHerald == 2])\n",
    "t2_wins = len(df[(df.winner == 2) & (df.firstRiftHerald == 2)])\n",
    "\n",
    "print('Team 2 wins {} out of {} games or {}% of games where they defeated the Rift Herald.'.format(\n",
    "    t2_wins, wins, round(t2_wins/wins*100, 2)))\n",
    "\n",
    "wins_1 = len(df[df.firstInhibitor == 1])\n",
    "t1_wins = len(df[(df.winner == 1) & (df.firstRiftHerald == 1)])\n",
    "\n",
    "print('Team 1 wins {} out of {} games or {}% of games where they defeated the Rift Herald.'.format(\n",
    "    t1_wins, wins_1, round(t1_wins/wins_1*100, 2)))"
   ]
  },
  {
   "cell_type": "markdown",
   "metadata": {
    "colab_type": "text",
    "id": "vP3VK144ww_G"
   },
   "source": [
    "- Since neither team wins more than the other really it is interesting that Team 2 wins almost 30% of the time more often with Rift Herald than Team 1. This may just be an anomaly of the data set. However, Team 1 does defeat the Rift Herald twice as often. perhaps its affect may average out to not being very useful after many games. Afterall Riot wouldn't want to make an objective that guarantees victory in the early game."
   ]
  },
  {
   "cell_type": "code",
   "execution_count": 77,
   "metadata": {
    "ExecuteTime": {
     "end_time": "2019-12-03T15:50:19.502828Z",
     "start_time": "2019-12-03T15:50:19.470931Z"
    },
    "colab": {
     "base_uri": "https://localhost:8080/",
     "height": 51
    },
    "colab_type": "code",
    "id": "LvGTSUmfxq5m",
    "outputId": "c40d2434-b6a8-47d7-9d06-d96040cf7f02"
   },
   "outputs": [
    {
     "name": "stdout",
     "output_type": "stream",
     "text": [
      "Team 2 wins 17287 out of 24416 games or 70.8% of games where they destroyed the first tower.\n",
      "Team 1 wins 18320 out of 25861 games or 70.84% of games where they destroyed the first tower.\n"
     ]
    }
   ],
   "source": [
    "wins = len(df[df.firstTower == 2])\n",
    "t2_wins = len(df[(df.winner == 2) & (df.firstTower == 2)])\n",
    "\n",
    "print('Team 2 wins {} out of {} games or {}% of games where they destroyed the first tower.'.format(\n",
    "    t2_wins, wins, round(t2_wins/wins*100, 2)))\n",
    "\n",
    "wins_1 = len(df[df.firstTower == 1])\n",
    "t1_wins = len(df[(df.winner == 1) & (df.firstTower == 1)])\n",
    "\n",
    "print('Team 1 wins {} out of {} games or {}% of games where they destroyed the first tower.'.format(\n",
    "    t1_wins, wins_1, round(t1_wins/wins_1*100, 2)))"
   ]
  },
  {
   "cell_type": "markdown",
   "metadata": {
    "colab_type": "text",
    "id": "C4VQBBU00HGu"
   },
   "source": [
    "- Aside from the first kill, first tower is the next earliest objective. The team that takes the first tower has gained a large advantage. Usually a tower destroyed early game means that your team has won one of the three lanes. Now that lane can roam around the map and pressure other lanes."
   ]
  },
  {
   "cell_type": "markdown",
   "metadata": {
    "colab_type": "text",
    "id": "nRzOLGU02HAQ"
   },
   "source": [
    "# Conclusions\n",
    "- There are a lot of features I left out. Anything that did with champ selection or bans. Champs tend to be balanced out by being nerfed and buffed as the season goes on. I wanted to focus on objectives and see which ones were most important. \n",
    "- SVM and AdaBoost were taking much too long with every feature. And Random Forest and Decision Tree were showing results that didn't show any influence from which champs were selected or banned. \n",
    "- Another issue I wanted to avoid were features like number of inhibitors killed or number of turrets destroyed. Just by looking at which team had more turrets destroyed you could assume that they win. While this isn't always the case and technically you can win by just destroying 5 turrets. The more turrets you destroy usually leads to more wins. \n",
    "- Same goes for number of inhibitors destroyed. The difference is that inhibitors can respawn after an amount of time. Games can go on indefinitely and lots of inhibitors could be destroyed over time. But you only need to destroy one to win and get to the Nexus. That is why i wanted to see the results from destroying the first Inhibitor"
   ]
  },
  {
   "cell_type": "markdown",
   "metadata": {
    "colab": {},
    "colab_type": "code",
    "id": "Bzx6ZjN13ECI"
   },
   "source": [
    "# Future Work\n",
    "- One of the things I would like to be able to do with this project is import current data from LoL. That way someone could just pull in new data and be able to see if the same features have the same impact as they did say a year ago as the game changes. This would be interesting because League does add new features and weapons each season.\n",
    "- Another idea I had was to be able to import data for professional players and see if there was a way to predict who would win Worlds or other tournaments throughout the year. Seeing if the objectives for pro players are different than casual or amateur players. \n",
    "- Get the draw_roc_curve function to work"
   ]
  },
  {
   "cell_type": "code",
   "execution_count": null,
   "metadata": {},
   "outputs": [],
   "source": []
  }
 ],
 "metadata": {
  "accelerator": "GPU",
  "colab": {
   "collapsed_sections": [],
   "name": "main_code.ipynb",
   "provenance": []
  },
  "kernelspec": {
   "display_name": "Python 3",
   "language": "python",
   "name": "python3"
  },
  "language_info": {
   "codemirror_mode": {
    "name": "ipython",
    "version": 3
   },
   "file_extension": ".py",
   "mimetype": "text/x-python",
   "name": "python",
   "nbconvert_exporter": "python",
   "pygments_lexer": "ipython3",
   "version": "3.7.3"
  },
  "toc": {
   "base_numbering": 1,
   "nav_menu": {},
   "number_sections": true,
   "sideBar": true,
   "skip_h1_title": false,
   "title_cell": "Table of Contents",
   "title_sidebar": "Contents",
   "toc_cell": true,
   "toc_position": {
    "height": "789px",
    "left": "236px",
    "top": "110px",
    "width": "384px"
   },
   "toc_section_display": true,
   "toc_window_display": true
  },
  "varInspector": {
   "cols": {
    "lenName": 16,
    "lenType": 16,
    "lenVar": 40
   },
   "kernels_config": {
    "python": {
     "delete_cmd_postfix": "",
     "delete_cmd_prefix": "del ",
     "library": "var_list.py",
     "varRefreshCmd": "print(var_dic_list())"
    },
    "r": {
     "delete_cmd_postfix": ") ",
     "delete_cmd_prefix": "rm(",
     "library": "var_list.r",
     "varRefreshCmd": "cat(var_dic_list()) "
    }
   },
   "types_to_exclude": [
    "module",
    "function",
    "builtin_function_or_method",
    "instance",
    "_Feature"
   ],
   "window_display": false
  }
 },
 "nbformat": 4,
 "nbformat_minor": 1
}
