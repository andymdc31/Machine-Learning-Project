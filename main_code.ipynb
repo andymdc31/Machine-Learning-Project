{
 "cells": [
  {
   "cell_type": "markdown",
   "metadata": {
    "toc": true
   },
   "source": [
    "<h1>Table of Contents<span class=\"tocSkip\"></span></h1>\n",
    "<div class=\"toc\"><ul class=\"toc-item\"><li><span><a href=\"#Machine-Learning-Project\" data-toc-modified-id=\"Machine-Learning-Project-1\"><span class=\"toc-item-num\">1&nbsp;&nbsp;</span>Machine Learning Project</a></span></li><li><span><a href=\"#To-Do\" data-toc-modified-id=\"To-Do-2\"><span class=\"toc-item-num\">2&nbsp;&nbsp;</span>To Do</a></span></li><li><span><a href=\"#Questions-I-want-to-try-and-answer-with-dataset\" data-toc-modified-id=\"Questions-I-want-to-try-and-answer-with-dataset-3\"><span class=\"toc-item-num\">3&nbsp;&nbsp;</span>Questions I want to try and answer with dataset</a></span></li><li><span><a href=\"#Notes:\" data-toc-modified-id=\"Notes:-4\"><span class=\"toc-item-num\">4&nbsp;&nbsp;</span>Notes:</a></span></li><li><span><a href=\"#Exploring-the-Data\" data-toc-modified-id=\"Exploring-the-Data-5\"><span class=\"toc-item-num\">5&nbsp;&nbsp;</span>Exploring the Data</a></span><ul class=\"toc-item\"><li><span><a href=\"#Graph-out-every-column\" data-toc-modified-id=\"Graph-out-every-column-5.1\"><span class=\"toc-item-num\">5.1&nbsp;&nbsp;</span>Graph out every column</a></span></li></ul></li><li><span><a href=\"#Break-into-test-and-train\" data-toc-modified-id=\"Break-into-test-and-train-6\"><span class=\"toc-item-num\">6&nbsp;&nbsp;</span>Break into test and train</a></span></li><li><span><a href=\"#Run-Decision-Tree-Pipeline-w/-Standard-Scaler\" data-toc-modified-id=\"Run-Decision-Tree-Pipeline-w/-Standard-Scaler-7\"><span class=\"toc-item-num\">7&nbsp;&nbsp;</span>Run Decision Tree Pipeline w/ Standard Scaler</a></span><ul class=\"toc-item\"><li><span><a href=\"#Get-Best-Pipeline\" data-toc-modified-id=\"Get-Best-Pipeline-7.1\"><span class=\"toc-item-num\">7.1&nbsp;&nbsp;</span>Get Best Pipeline</a></span></li><li><span><a href=\"#Get-Classifier\" data-toc-modified-id=\"Get-Classifier-7.2\"><span class=\"toc-item-num\">7.2&nbsp;&nbsp;</span>Get Classifier</a></span></li><li><span><a href=\"#See-which-features-are-most-important\" data-toc-modified-id=\"See-which-features-are-most-important-7.3\"><span class=\"toc-item-num\">7.3&nbsp;&nbsp;</span>See which features are most important</a></span></li><li><span><a href=\"#Find-better-hyperparameters\" data-toc-modified-id=\"Find-better-hyperparameters-7.4\"><span class=\"toc-item-num\">7.4&nbsp;&nbsp;</span>Find better hyperparameters</a></span></li></ul></li><li><span><a href=\"#Use-PCA,-run-Decision-Tree-Again\" data-toc-modified-id=\"Use-PCA,-run-Decision-Tree-Again-8\"><span class=\"toc-item-num\">8&nbsp;&nbsp;</span>Use PCA, run Decision Tree Again</a></span><ul class=\"toc-item\"><li><span><a href=\"#Find-the-number-of-features-that-allows-for-95%-of-variance-to-be-kept\" data-toc-modified-id=\"Find-the-number-of-features-that-allows-for-95%-of-variance-to-be-kept-8.1\"><span class=\"toc-item-num\">8.1&nbsp;&nbsp;</span>Find the number of features that allows for 95% of variance to be kept</a></span></li></ul></li><li><span><a href=\"#Use-other-ensemble-methods\" data-toc-modified-id=\"Use-other-ensemble-methods-9\"><span class=\"toc-item-num\">9&nbsp;&nbsp;</span>Use other ensemble methods</a></span></li><li><span><a href=\"#Random-Forest\" data-toc-modified-id=\"Random-Forest-10\"><span class=\"toc-item-num\">10&nbsp;&nbsp;</span>Random Forest</a></span></li><li><span><a href=\"#SVM\" data-toc-modified-id=\"SVM-11\"><span class=\"toc-item-num\">11&nbsp;&nbsp;</span>SVM</a></span></li><li><span><a href=\"#XGBoost\" data-toc-modified-id=\"XGBoost-12\"><span class=\"toc-item-num\">12&nbsp;&nbsp;</span>XGBoost</a></span></li></ul></div>"
   ]
  },
  {
   "cell_type": "markdown",
   "metadata": {},
   "source": [
    "# Machine Learning Project"
   ]
  },
  {
   "cell_type": "markdown",
   "metadata": {},
   "source": [
    "# To Do\n",
    "- In data analysis, look at how many times team 1 wins or team 2\n",
    "- Get all models working\n",
    "- Make a function that takes each grid search and outputs all the values that I want\n",
    "    1. feature importance for each\n",
    "        https://stackoverflow.com/questions/38787612/how-to-extract-feature-importances-from-an-sklearn-pipeline\n",
    "        \n",
    "        https://stackoverflow.com/questions/50796024/feature-variable-importance-after-a-pca-analysis\n",
    "    2. confusion matrix\n",
    "    3. f1 score\n",
    "    4. roc curve"
   ]
  },
  {
   "cell_type": "markdown",
   "metadata": {},
   "source": [
    "# Questions I want to try and answer with dataset\n",
    "1. How well can models predict the winner\n",
    "2. What are the top features that could determine the winner"
   ]
  },
  {
   "cell_type": "markdown",
   "metadata": {},
   "source": [
    "# Notes:\n",
    "1. games.csv has all the data from the played games\n",
    "2. champion_info.json has the names of all the champions and the number that represents them in games.csv\n",
    "3. summoner_spell_info.json has the names of all the summoner spells used and the number that represents them in games.csv\n",
    "4. In all columns that aren't champions or summoners, a 1 represents team1 and a 2 represents team2 respectively. A 0 represents that one of the teamps forfeited before any objective was achieved by any team.\n",
    "5. In the winners column, a 1 represents team1 and a 2 represents team2 winning respectively."
   ]
  },
  {
   "cell_type": "code",
   "execution_count": 16,
   "metadata": {
    "ExecuteTime": {
     "end_time": "2019-11-21T17:39:49.021218Z",
     "start_time": "2019-11-21T17:39:49.018226Z"
    }
   },
   "outputs": [],
   "source": [
    "import pandas as pd\n",
    "import matplotlib.pyplot as plt\n",
    "import seaborn as sns\n",
    "from sklearn.model_selection import train_test_split\n",
    "from sklearn.preprocessing import StandardScaler\n",
    "from sklearn.tree import DecisionTreeClassifier\n",
    "from sklearn.pipeline import Pipeline\n",
    "from sklearn.decomposition import PCA\n",
    "from sklearn.model_selection import GridSearchCV\n",
    "from sklearn import svm"
   ]
  },
  {
   "cell_type": "markdown",
   "metadata": {
    "heading_collapsed": true
   },
   "source": [
    "# Exploring the Data"
   ]
  },
  {
   "cell_type": "code",
   "execution_count": 17,
   "metadata": {
    "ExecuteTime": {
     "end_time": "2019-11-21T17:39:49.264616Z",
     "start_time": "2019-11-21T17:39:49.024187Z"
    },
    "hidden": true
   },
   "outputs": [
    {
     "data": {
      "text/html": [
       "<div>\n",
       "<style scoped>\n",
       "    .dataframe tbody tr th:only-of-type {\n",
       "        vertical-align: middle;\n",
       "    }\n",
       "\n",
       "    .dataframe tbody tr th {\n",
       "        vertical-align: top;\n",
       "    }\n",
       "\n",
       "    .dataframe thead th {\n",
       "        text-align: right;\n",
       "    }\n",
       "</style>\n",
       "<table border=\"1\" class=\"dataframe\">\n",
       "  <thead>\n",
       "    <tr style=\"text-align: right;\">\n",
       "      <th></th>\n",
       "      <th>gameId</th>\n",
       "      <th>creationTime</th>\n",
       "      <th>gameDuration</th>\n",
       "      <th>seasonId</th>\n",
       "      <th>winner</th>\n",
       "      <th>firstBlood</th>\n",
       "      <th>firstTower</th>\n",
       "      <th>firstInhibitor</th>\n",
       "      <th>firstBaron</th>\n",
       "      <th>firstDragon</th>\n",
       "      <th>...</th>\n",
       "      <th>t2_towerKills</th>\n",
       "      <th>t2_inhibitorKills</th>\n",
       "      <th>t2_baronKills</th>\n",
       "      <th>t2_dragonKills</th>\n",
       "      <th>t2_riftHeraldKills</th>\n",
       "      <th>t2_ban1</th>\n",
       "      <th>t2_ban2</th>\n",
       "      <th>t2_ban3</th>\n",
       "      <th>t2_ban4</th>\n",
       "      <th>t2_ban5</th>\n",
       "    </tr>\n",
       "  </thead>\n",
       "  <tbody>\n",
       "    <tr>\n",
       "      <th>0</th>\n",
       "      <td>3326086514</td>\n",
       "      <td>1504279457970</td>\n",
       "      <td>1949</td>\n",
       "      <td>9</td>\n",
       "      <td>1</td>\n",
       "      <td>2</td>\n",
       "      <td>1</td>\n",
       "      <td>1</td>\n",
       "      <td>1</td>\n",
       "      <td>1</td>\n",
       "      <td>...</td>\n",
       "      <td>5</td>\n",
       "      <td>0</td>\n",
       "      <td>0</td>\n",
       "      <td>1</td>\n",
       "      <td>1</td>\n",
       "      <td>114</td>\n",
       "      <td>67</td>\n",
       "      <td>43</td>\n",
       "      <td>16</td>\n",
       "      <td>51</td>\n",
       "    </tr>\n",
       "    <tr>\n",
       "      <th>1</th>\n",
       "      <td>3229566029</td>\n",
       "      <td>1497848803862</td>\n",
       "      <td>1851</td>\n",
       "      <td>9</td>\n",
       "      <td>1</td>\n",
       "      <td>1</td>\n",
       "      <td>1</td>\n",
       "      <td>1</td>\n",
       "      <td>0</td>\n",
       "      <td>1</td>\n",
       "      <td>...</td>\n",
       "      <td>2</td>\n",
       "      <td>0</td>\n",
       "      <td>0</td>\n",
       "      <td>0</td>\n",
       "      <td>0</td>\n",
       "      <td>11</td>\n",
       "      <td>67</td>\n",
       "      <td>238</td>\n",
       "      <td>51</td>\n",
       "      <td>420</td>\n",
       "    </tr>\n",
       "    <tr>\n",
       "      <th>2</th>\n",
       "      <td>3327363504</td>\n",
       "      <td>1504360103310</td>\n",
       "      <td>1493</td>\n",
       "      <td>9</td>\n",
       "      <td>1</td>\n",
       "      <td>2</td>\n",
       "      <td>1</td>\n",
       "      <td>1</td>\n",
       "      <td>1</td>\n",
       "      <td>2</td>\n",
       "      <td>...</td>\n",
       "      <td>2</td>\n",
       "      <td>0</td>\n",
       "      <td>0</td>\n",
       "      <td>1</td>\n",
       "      <td>0</td>\n",
       "      <td>157</td>\n",
       "      <td>238</td>\n",
       "      <td>121</td>\n",
       "      <td>57</td>\n",
       "      <td>28</td>\n",
       "    </tr>\n",
       "    <tr>\n",
       "      <th>3</th>\n",
       "      <td>3326856598</td>\n",
       "      <td>1504348503996</td>\n",
       "      <td>1758</td>\n",
       "      <td>9</td>\n",
       "      <td>1</td>\n",
       "      <td>1</td>\n",
       "      <td>1</td>\n",
       "      <td>1</td>\n",
       "      <td>1</td>\n",
       "      <td>1</td>\n",
       "      <td>...</td>\n",
       "      <td>0</td>\n",
       "      <td>0</td>\n",
       "      <td>0</td>\n",
       "      <td>0</td>\n",
       "      <td>0</td>\n",
       "      <td>164</td>\n",
       "      <td>18</td>\n",
       "      <td>141</td>\n",
       "      <td>40</td>\n",
       "      <td>51</td>\n",
       "    </tr>\n",
       "    <tr>\n",
       "      <th>4</th>\n",
       "      <td>3330080762</td>\n",
       "      <td>1504554410899</td>\n",
       "      <td>2094</td>\n",
       "      <td>9</td>\n",
       "      <td>1</td>\n",
       "      <td>2</td>\n",
       "      <td>1</td>\n",
       "      <td>1</td>\n",
       "      <td>1</td>\n",
       "      <td>1</td>\n",
       "      <td>...</td>\n",
       "      <td>3</td>\n",
       "      <td>0</td>\n",
       "      <td>0</td>\n",
       "      <td>1</td>\n",
       "      <td>0</td>\n",
       "      <td>86</td>\n",
       "      <td>11</td>\n",
       "      <td>201</td>\n",
       "      <td>122</td>\n",
       "      <td>18</td>\n",
       "    </tr>\n",
       "  </tbody>\n",
       "</table>\n",
       "<p>5 rows × 61 columns</p>\n",
       "</div>"
      ],
      "text/plain": [
       "       gameId   creationTime  gameDuration  seasonId  winner  firstBlood  \\\n",
       "0  3326086514  1504279457970          1949         9       1           2   \n",
       "1  3229566029  1497848803862          1851         9       1           1   \n",
       "2  3327363504  1504360103310          1493         9       1           2   \n",
       "3  3326856598  1504348503996          1758         9       1           1   \n",
       "4  3330080762  1504554410899          2094         9       1           2   \n",
       "\n",
       "   firstTower  firstInhibitor  firstBaron  firstDragon   ...     \\\n",
       "0           1               1           1            1   ...      \n",
       "1           1               1           0            1   ...      \n",
       "2           1               1           1            2   ...      \n",
       "3           1               1           1            1   ...      \n",
       "4           1               1           1            1   ...      \n",
       "\n",
       "   t2_towerKills  t2_inhibitorKills  t2_baronKills  t2_dragonKills  \\\n",
       "0              5                  0              0               1   \n",
       "1              2                  0              0               0   \n",
       "2              2                  0              0               1   \n",
       "3              0                  0              0               0   \n",
       "4              3                  0              0               1   \n",
       "\n",
       "   t2_riftHeraldKills  t2_ban1  t2_ban2  t2_ban3  t2_ban4  t2_ban5  \n",
       "0                   1      114       67       43       16       51  \n",
       "1                   0       11       67      238       51      420  \n",
       "2                   0      157      238      121       57       28  \n",
       "3                   0      164       18      141       40       51  \n",
       "4                   0       86       11      201      122       18  \n",
       "\n",
       "[5 rows x 61 columns]"
      ]
     },
     "execution_count": 17,
     "metadata": {},
     "output_type": "execute_result"
    }
   ],
   "source": [
    "#import data\n",
    "df = pd.read_csv('games.csv')\n",
    "df.head()"
   ]
  },
  {
   "cell_type": "code",
   "execution_count": 18,
   "metadata": {
    "ExecuteTime": {
     "end_time": "2019-11-21T17:39:49.305548Z",
     "start_time": "2019-11-21T17:39:49.265591Z"
    },
    "hidden": true
   },
   "outputs": [
    {
     "name": "stdout",
     "output_type": "stream",
     "text": [
      "<class 'pandas.core.frame.DataFrame'>\n",
      "RangeIndex: 51490 entries, 0 to 51489\n",
      "Data columns (total 61 columns):\n",
      "gameId                51490 non-null int64\n",
      "creationTime          51490 non-null int64\n",
      "gameDuration          51490 non-null int64\n",
      "seasonId              51490 non-null int64\n",
      "winner                51490 non-null int64\n",
      "firstBlood            51490 non-null int64\n",
      "firstTower            51490 non-null int64\n",
      "firstInhibitor        51490 non-null int64\n",
      "firstBaron            51490 non-null int64\n",
      "firstDragon           51490 non-null int64\n",
      "firstRiftHerald       51490 non-null int64\n",
      "t1_champ1id           51490 non-null int64\n",
      "t1_champ1_sum1        51490 non-null int64\n",
      "t1_champ1_sum2        51490 non-null int64\n",
      "t1_champ2id           51490 non-null int64\n",
      "t1_champ2_sum1        51490 non-null int64\n",
      "t1_champ2_sum2        51490 non-null int64\n",
      "t1_champ3id           51490 non-null int64\n",
      "t1_champ3_sum1        51490 non-null int64\n",
      "t1_champ3_sum2        51490 non-null int64\n",
      "t1_champ4id           51490 non-null int64\n",
      "t1_champ4_sum1        51490 non-null int64\n",
      "t1_champ4_sum2        51490 non-null int64\n",
      "t1_champ5id           51490 non-null int64\n",
      "t1_champ5_sum1        51490 non-null int64\n",
      "t1_champ5_sum2        51490 non-null int64\n",
      "t1_towerKills         51490 non-null int64\n",
      "t1_inhibitorKills     51490 non-null int64\n",
      "t1_baronKills         51490 non-null int64\n",
      "t1_dragonKills        51490 non-null int64\n",
      "t1_riftHeraldKills    51490 non-null int64\n",
      "t1_ban1               51490 non-null int64\n",
      "t1_ban2               51490 non-null int64\n",
      "t1_ban3               51490 non-null int64\n",
      "t1_ban4               51490 non-null int64\n",
      "t1_ban5               51490 non-null int64\n",
      "t2_champ1id           51490 non-null int64\n",
      "t2_champ1_sum1        51490 non-null int64\n",
      "t2_champ1_sum2        51490 non-null int64\n",
      "t2_champ2id           51490 non-null int64\n",
      "t2_champ2_sum1        51490 non-null int64\n",
      "t2_champ2_sum2        51490 non-null int64\n",
      "t2_champ3id           51490 non-null int64\n",
      "t2_champ3_sum1        51490 non-null int64\n",
      "t2_champ3_sum2        51490 non-null int64\n",
      "t2_champ4id           51490 non-null int64\n",
      "t2_champ4_sum1        51490 non-null int64\n",
      "t2_champ4_sum2        51490 non-null int64\n",
      "t2_champ5id           51490 non-null int64\n",
      "t2_champ5_sum1        51490 non-null int64\n",
      "t2_champ5_sum2        51490 non-null int64\n",
      "t2_towerKills         51490 non-null int64\n",
      "t2_inhibitorKills     51490 non-null int64\n",
      "t2_baronKills         51490 non-null int64\n",
      "t2_dragonKills        51490 non-null int64\n",
      "t2_riftHeraldKills    51490 non-null int64\n",
      "t2_ban1               51490 non-null int64\n",
      "t2_ban2               51490 non-null int64\n",
      "t2_ban3               51490 non-null int64\n",
      "t2_ban4               51490 non-null int64\n",
      "t2_ban5               51490 non-null int64\n",
      "dtypes: int64(61)\n",
      "memory usage: 24.0 MB\n"
     ]
    }
   ],
   "source": [
    "df.info()"
   ]
  },
  {
   "cell_type": "code",
   "execution_count": 19,
   "metadata": {
    "ExecuteTime": {
     "end_time": "2019-11-21T17:39:49.311469Z",
     "start_time": "2019-11-21T17:39:49.306508Z"
    },
    "hidden": true
   },
   "outputs": [
    {
     "data": {
      "text/plain": [
       "1"
      ]
     },
     "execution_count": 19,
     "metadata": {},
     "output_type": "execute_result"
    }
   ],
   "source": [
    "df.seasonId.nunique()"
   ]
  },
  {
   "cell_type": "markdown",
   "metadata": {
    "hidden": true
   },
   "source": [
    "Looking at the columns already I know I want to drop a few of them. I'm not interested in the gameId, creationTime, or seasonId. I am not comparing one game to the next, I want to compare all of them to each other so they don't require their game Id. Maybe I could come back eventually and convert the creation time to a readable column and see if the time of day a game is played affects anything. All games played were from season 9. "
   ]
  },
  {
   "cell_type": "code",
   "execution_count": 20,
   "metadata": {
    "ExecuteTime": {
     "end_time": "2019-11-21T17:39:49.326429Z",
     "start_time": "2019-11-21T17:39:49.312466Z"
    },
    "hidden": true
   },
   "outputs": [],
   "source": [
    "df = df.drop(columns=['gameId', 'creationTime', 'seasonId'])"
   ]
  },
  {
   "cell_type": "code",
   "execution_count": 21,
   "metadata": {
    "ExecuteTime": {
     "end_time": "2019-11-21T17:39:49.361358Z",
     "start_time": "2019-11-21T17:39:49.327426Z"
    },
    "hidden": true
   },
   "outputs": [
    {
     "data": {
      "text/plain": [
       "gameDuration          0\n",
       "winner                0\n",
       "firstBlood            0\n",
       "firstTower            0\n",
       "firstInhibitor        0\n",
       "firstBaron            0\n",
       "firstDragon           0\n",
       "firstRiftHerald       0\n",
       "t1_champ1id           0\n",
       "t1_champ1_sum1        0\n",
       "t1_champ1_sum2        0\n",
       "t1_champ2id           0\n",
       "t1_champ2_sum1        0\n",
       "t1_champ2_sum2        0\n",
       "t1_champ3id           0\n",
       "t1_champ3_sum1        0\n",
       "t1_champ3_sum2        0\n",
       "t1_champ4id           0\n",
       "t1_champ4_sum1        0\n",
       "t1_champ4_sum2        0\n",
       "t1_champ5id           0\n",
       "t1_champ5_sum1        0\n",
       "t1_champ5_sum2        0\n",
       "t1_towerKills         0\n",
       "t1_inhibitorKills     0\n",
       "t1_baronKills         0\n",
       "t1_dragonKills        0\n",
       "t1_riftHeraldKills    0\n",
       "t1_ban1               0\n",
       "t1_ban2               0\n",
       "t1_ban3               0\n",
       "t1_ban4               0\n",
       "t1_ban5               0\n",
       "t2_champ1id           0\n",
       "t2_champ1_sum1        0\n",
       "t2_champ1_sum2        0\n",
       "t2_champ2id           0\n",
       "t2_champ2_sum1        0\n",
       "t2_champ2_sum2        0\n",
       "t2_champ3id           0\n",
       "t2_champ3_sum1        0\n",
       "t2_champ3_sum2        0\n",
       "t2_champ4id           0\n",
       "t2_champ4_sum1        0\n",
       "t2_champ4_sum2        0\n",
       "t2_champ5id           0\n",
       "t2_champ5_sum1        0\n",
       "t2_champ5_sum2        0\n",
       "t2_towerKills         0\n",
       "t2_inhibitorKills     0\n",
       "t2_baronKills         0\n",
       "t2_dragonKills        0\n",
       "t2_riftHeraldKills    0\n",
       "t2_ban1               0\n",
       "t2_ban2               0\n",
       "t2_ban3               0\n",
       "t2_ban4               0\n",
       "t2_ban5               0\n",
       "dtype: int64"
      ]
     },
     "execution_count": 21,
     "metadata": {},
     "output_type": "execute_result"
    }
   ],
   "source": [
    "df.isna().sum()"
   ]
  },
  {
   "cell_type": "markdown",
   "metadata": {
    "hidden": true
   },
   "source": [
    "There is no missing data from any feature"
   ]
  },
  {
   "cell_type": "markdown",
   "metadata": {
    "hidden": true
   },
   "source": [
    "The column that I will be trying to predict against is 'winner' column"
   ]
  },
  {
   "cell_type": "code",
   "execution_count": 22,
   "metadata": {
    "ExecuteTime": {
     "end_time": "2019-11-21T17:39:49.381304Z",
     "start_time": "2019-11-21T17:39:49.362332Z"
    },
    "hidden": true
   },
   "outputs": [
    {
     "name": "stdout",
     "output_type": "stream",
     "text": [
      "Team 1 wins 26077 out of 51490 games or 50.64% of games\n",
      "Team 2 wins 25413 out of 51490 games or 49.36% of games\n"
     ]
    }
   ],
   "source": [
    "games = len(df.winner)\n",
    "t1_wins = len(df[df.winner == 1])\n",
    "t2_wins = len(df[df.winner ==2])\n",
    "\n",
    "print('Team 1 wins {} out of {} games or {}% of games'.format(t1_wins, games, round(t1_wins/games*100, 2)))\n",
    "print('Team 2 wins {} out of {} games or {}% of games'.format(t2_wins, games, round(t2_wins/games*100, 2)))"
   ]
  },
  {
   "cell_type": "markdown",
   "metadata": {
    "hidden": true
   },
   "source": [
    "As you can see both teams are winning about half the time. So if you just randomly guessed which team would win you'd have a 50% chance of guessing correctly"
   ]
  },
  {
   "cell_type": "markdown",
   "metadata": {
    "ExecuteTime": {
     "end_time": "2019-11-19T00:11:03.676485Z",
     "start_time": "2019-11-19T00:11:03.671482Z"
    },
    "hidden": true
   },
   "source": [
    "## Graph out every column"
   ]
  },
  {
   "cell_type": "code",
   "execution_count": 23,
   "metadata": {
    "ExecuteTime": {
     "end_time": "2019-11-21T17:39:55.149854Z",
     "start_time": "2019-11-21T17:39:49.382280Z"
    },
    "hidden": true
   },
   "outputs": [
    {
     "data": {
      "image/png": "[encoded data removed]",
      "text/plain": [
       "<Figure size 1296x3600 with 60 Axes>"
      ]
     },
     "metadata": {
      "needs_background": "light"
     },
     "output_type": "display_data"
    }
   ],
   "source": [
    "df.hist(figsize=(18,50),layout=(15,4));"
   ]
  },
  {
   "cell_type": "markdown",
   "metadata": {
    "hidden": true
   },
   "source": [
    "Observations:\n",
    "A lot of these features are categorical. And a few are continuous. I will have to go through and determine which is which before running any predictions."
   ]
  },
  {
   "cell_type": "code",
   "execution_count": 24,
   "metadata": {
    "ExecuteTime": {
     "end_time": "2019-11-21T17:39:55.158829Z",
     "start_time": "2019-11-21T17:39:55.151849Z"
    },
    "hidden": true
   },
   "outputs": [],
   "source": [
    "df_with_dummies = df.copy()"
   ]
  },
  {
   "cell_type": "code",
   "execution_count": 25,
   "metadata": {
    "ExecuteTime": {
     "end_time": "2019-11-21T17:40:01.624538Z",
     "start_time": "2019-11-21T17:39:55.160824Z"
    },
    "hidden": true
   },
   "outputs": [],
   "source": [
    "categorical_feature_list = None\n",
    "\n",
    "continuous_feature_list = ['winner','gameDuration', 't1_dragonKills', 't1_inhibitorKills', 't1_towerKills', 't1_baronKills',\n",
    "                           't2_dragonKills', 't2_inhibitorKills', 't2_towerKills']\n",
    "\n",
    "for column in df.columns:\n",
    "    if column in continuous_feature_list:\n",
    "        continue\n",
    "    else:\n",
    "        dummies = pd.get_dummies(df[column], prefix=column)\n",
    "        df_with_dummies = pd.concat([df_with_dummies, dummies], axis=1)\n",
    "        df_with_dummies = df_with_dummies.drop(columns=[column])"
   ]
  },
  {
   "cell_type": "code",
   "execution_count": 26,
   "metadata": {
    "ExecuteTime": {
     "end_time": "2019-11-21T17:40:01.643486Z",
     "start_time": "2019-11-21T17:40:01.625535Z"
    },
    "hidden": true
   },
   "outputs": [
    {
     "data": {
      "text/html": [
       "<div>\n",
       "<style scoped>\n",
       "    .dataframe tbody tr th:only-of-type {\n",
       "        vertical-align: middle;\n",
       "    }\n",
       "\n",
       "    .dataframe tbody tr th {\n",
       "        vertical-align: top;\n",
       "    }\n",
       "\n",
       "    .dataframe thead th {\n",
       "        text-align: right;\n",
       "    }\n",
       "</style>\n",
       "<table border=\"1\" class=\"dataframe\">\n",
       "  <thead>\n",
       "    <tr style=\"text-align: right;\">\n",
       "      <th></th>\n",
       "      <th>gameDuration</th>\n",
       "      <th>winner</th>\n",
       "      <th>t1_towerKills</th>\n",
       "      <th>t1_inhibitorKills</th>\n",
       "      <th>t1_baronKills</th>\n",
       "      <th>t1_dragonKills</th>\n",
       "      <th>t2_towerKills</th>\n",
       "      <th>t2_inhibitorKills</th>\n",
       "      <th>t2_dragonKills</th>\n",
       "      <th>firstBlood_0</th>\n",
       "      <th>...</th>\n",
       "      <th>t2_ban5_268</th>\n",
       "      <th>t2_ban5_412</th>\n",
       "      <th>t2_ban5_420</th>\n",
       "      <th>t2_ban5_421</th>\n",
       "      <th>t2_ban5_427</th>\n",
       "      <th>t2_ban5_429</th>\n",
       "      <th>t2_ban5_432</th>\n",
       "      <th>t2_ban5_497</th>\n",
       "      <th>t2_ban5_498</th>\n",
       "      <th>t2_ban5_516</th>\n",
       "    </tr>\n",
       "  </thead>\n",
       "  <tbody>\n",
       "    <tr>\n",
       "      <th>0</th>\n",
       "      <td>1949</td>\n",
       "      <td>1</td>\n",
       "      <td>11</td>\n",
       "      <td>1</td>\n",
       "      <td>2</td>\n",
       "      <td>3</td>\n",
       "      <td>5</td>\n",
       "      <td>0</td>\n",
       "      <td>1</td>\n",
       "      <td>0</td>\n",
       "      <td>...</td>\n",
       "      <td>0</td>\n",
       "      <td>0</td>\n",
       "      <td>0</td>\n",
       "      <td>0</td>\n",
       "      <td>0</td>\n",
       "      <td>0</td>\n",
       "      <td>0</td>\n",
       "      <td>0</td>\n",
       "      <td>0</td>\n",
       "      <td>0</td>\n",
       "    </tr>\n",
       "    <tr>\n",
       "      <th>1</th>\n",
       "      <td>1851</td>\n",
       "      <td>1</td>\n",
       "      <td>10</td>\n",
       "      <td>4</td>\n",
       "      <td>0</td>\n",
       "      <td>2</td>\n",
       "      <td>2</td>\n",
       "      <td>0</td>\n",
       "      <td>0</td>\n",
       "      <td>0</td>\n",
       "      <td>...</td>\n",
       "      <td>0</td>\n",
       "      <td>0</td>\n",
       "      <td>1</td>\n",
       "      <td>0</td>\n",
       "      <td>0</td>\n",
       "      <td>0</td>\n",
       "      <td>0</td>\n",
       "      <td>0</td>\n",
       "      <td>0</td>\n",
       "      <td>0</td>\n",
       "    </tr>\n",
       "    <tr>\n",
       "      <th>2</th>\n",
       "      <td>1493</td>\n",
       "      <td>1</td>\n",
       "      <td>8</td>\n",
       "      <td>1</td>\n",
       "      <td>1</td>\n",
       "      <td>1</td>\n",
       "      <td>2</td>\n",
       "      <td>0</td>\n",
       "      <td>1</td>\n",
       "      <td>0</td>\n",
       "      <td>...</td>\n",
       "      <td>0</td>\n",
       "      <td>0</td>\n",
       "      <td>0</td>\n",
       "      <td>0</td>\n",
       "      <td>0</td>\n",
       "      <td>0</td>\n",
       "      <td>0</td>\n",
       "      <td>0</td>\n",
       "      <td>0</td>\n",
       "      <td>0</td>\n",
       "    </tr>\n",
       "    <tr>\n",
       "      <th>3</th>\n",
       "      <td>1758</td>\n",
       "      <td>1</td>\n",
       "      <td>9</td>\n",
       "      <td>2</td>\n",
       "      <td>1</td>\n",
       "      <td>2</td>\n",
       "      <td>0</td>\n",
       "      <td>0</td>\n",
       "      <td>0</td>\n",
       "      <td>0</td>\n",
       "      <td>...</td>\n",
       "      <td>0</td>\n",
       "      <td>0</td>\n",
       "      <td>0</td>\n",
       "      <td>0</td>\n",
       "      <td>0</td>\n",
       "      <td>0</td>\n",
       "      <td>0</td>\n",
       "      <td>0</td>\n",
       "      <td>0</td>\n",
       "      <td>0</td>\n",
       "    </tr>\n",
       "    <tr>\n",
       "      <th>4</th>\n",
       "      <td>2094</td>\n",
       "      <td>1</td>\n",
       "      <td>9</td>\n",
       "      <td>2</td>\n",
       "      <td>1</td>\n",
       "      <td>3</td>\n",
       "      <td>3</td>\n",
       "      <td>0</td>\n",
       "      <td>1</td>\n",
       "      <td>0</td>\n",
       "      <td>...</td>\n",
       "      <td>0</td>\n",
       "      <td>0</td>\n",
       "      <td>0</td>\n",
       "      <td>0</td>\n",
       "      <td>0</td>\n",
       "      <td>0</td>\n",
       "      <td>0</td>\n",
       "      <td>0</td>\n",
       "      <td>0</td>\n",
       "      <td>0</td>\n",
       "    </tr>\n",
       "  </tbody>\n",
       "</table>\n",
       "<p>5 rows × 2986 columns</p>\n",
       "</div>"
      ],
      "text/plain": [
       "   gameDuration  winner  t1_towerKills  t1_inhibitorKills  t1_baronKills  \\\n",
       "0          1949       1             11                  1              2   \n",
       "1          1851       1             10                  4              0   \n",
       "2          1493       1              8                  1              1   \n",
       "3          1758       1              9                  2              1   \n",
       "4          2094       1              9                  2              1   \n",
       "\n",
       "   t1_dragonKills  t2_towerKills  t2_inhibitorKills  t2_dragonKills  \\\n",
       "0               3              5                  0               1   \n",
       "1               2              2                  0               0   \n",
       "2               1              2                  0               1   \n",
       "3               2              0                  0               0   \n",
       "4               3              3                  0               1   \n",
       "\n",
       "   firstBlood_0     ...       t2_ban5_268  t2_ban5_412  t2_ban5_420  \\\n",
       "0             0     ...                 0            0            0   \n",
       "1             0     ...                 0            0            1   \n",
       "2             0     ...                 0            0            0   \n",
       "3             0     ...                 0            0            0   \n",
       "4             0     ...                 0            0            0   \n",
       "\n",
       "   t2_ban5_421  t2_ban5_427  t2_ban5_429  t2_ban5_432  t2_ban5_497  \\\n",
       "0            0            0            0            0            0   \n",
       "1            0            0            0            0            0   \n",
       "2            0            0            0            0            0   \n",
       "3            0            0            0            0            0   \n",
       "4            0            0            0            0            0   \n",
       "\n",
       "   t2_ban5_498  t2_ban5_516  \n",
       "0            0            0  \n",
       "1            0            0  \n",
       "2            0            0  \n",
       "3            0            0  \n",
       "4            0            0  \n",
       "\n",
       "[5 rows x 2986 columns]"
      ]
     },
     "execution_count": 26,
     "metadata": {},
     "output_type": "execute_result"
    }
   ],
   "source": [
    "df_with_dummies.head()"
   ]
  },
  {
   "cell_type": "code",
   "execution_count": 27,
   "metadata": {
    "ExecuteTime": {
     "end_time": "2019-11-21T17:40:01.650468Z",
     "start_time": "2019-11-21T17:40:01.644484Z"
    },
    "hidden": true
   },
   "outputs": [
    {
     "data": {
      "text/plain": [
       "Index(['gameDuration', 'winner', 't1_towerKills', 't1_inhibitorKills',\n",
       "       't1_baronKills', 't1_dragonKills', 't2_towerKills', 't2_inhibitorKills',\n",
       "       't2_dragonKills', 'firstBlood_0',\n",
       "       ...\n",
       "       't2_ban5_268', 't2_ban5_412', 't2_ban5_420', 't2_ban5_421',\n",
       "       't2_ban5_427', 't2_ban5_429', 't2_ban5_432', 't2_ban5_497',\n",
       "       't2_ban5_498', 't2_ban5_516'],\n",
       "      dtype='object', length=2986)"
      ]
     },
     "execution_count": 27,
     "metadata": {},
     "output_type": "execute_result"
    }
   ],
   "source": [
    "df_with_dummies.columns"
   ]
  },
  {
   "cell_type": "code",
   "execution_count": 28,
   "metadata": {
    "ExecuteTime": {
     "end_time": "2019-11-21T17:40:01.744218Z",
     "start_time": "2019-11-21T17:40:01.652462Z"
    },
    "hidden": true
   },
   "outputs": [
    {
     "name": "stdout",
     "output_type": "stream",
     "text": [
      "<class 'pandas.core.frame.DataFrame'>\n",
      "RangeIndex: 51490 entries, 0 to 51489\n",
      "Columns: 2986 entries, gameDuration to t2_ban5_516\n",
      "dtypes: int64(9), uint8(2977)\n",
      "memory usage: 149.7 MB\n"
     ]
    }
   ],
   "source": [
    "df_with_dummies.info()"
   ]
  },
  {
   "cell_type": "markdown",
   "metadata": {
    "heading_collapsed": true
   },
   "source": [
    "# Break into test and train"
   ]
  },
  {
   "cell_type": "code",
   "execution_count": 29,
   "metadata": {
    "ExecuteTime": {
     "end_time": "2019-11-21T17:40:02.189027Z",
     "start_time": "2019-11-21T17:40:01.746212Z"
    },
    "hidden": true
   },
   "outputs": [],
   "source": [
    "X = df_with_dummies.drop(columns=['winner'])\n",
    "y = df_with_dummies['winner']\n",
    "\n",
    "X_train, X_test, y_train, y_test = train_test_split(X, y, test_size=0.2)"
   ]
  },
  {
   "cell_type": "markdown",
   "metadata": {},
   "source": [
    "# Run Decision Tree Pipeline w/ Standard Scaler"
   ]
  },
  {
   "cell_type": "markdown",
   "metadata": {},
   "source": [
    "I am running a Decision Tree Classifier first to have a baseline"
   ]
  },
  {
   "cell_type": "code",
   "execution_count": 30,
   "metadata": {
    "ExecuteTime": {
     "end_time": "2019-11-21T17:42:55.242152Z",
     "start_time": "2019-11-21T17:40:05.860209Z"
    }
   },
   "outputs": [
    {
     "name": "stdout",
     "output_type": "stream",
     "text": [
      "Fitting 3 folds for each of 6 candidates, totalling 18 fits\n",
      "[CV] clf__max_depth=5 ................................................\n"
     ]
    },
    {
     "name": "stderr",
     "output_type": "stream",
     "text": [
      "[Parallel(n_jobs=1)]: Using backend SequentialBackend with 1 concurrent workers.\n",
      "C:\\Users\\Andy\\Anaconda3\\envs\\learn-env\\lib\\site-packages\\sklearn\\preprocessing\\data.py:625: DataConversionWarning: Data with input dtype uint8, int64 were all converted to float64 by StandardScaler.\n",
      "  return self.partial_fit(X, y)\n",
      "C:\\Users\\Andy\\Anaconda3\\envs\\learn-env\\lib\\site-packages\\sklearn\\base.py:465: DataConversionWarning: Data with input dtype uint8, int64 were all converted to float64 by StandardScaler.\n",
      "  return self.fit(X, y, **fit_params).transform(X)\n",
      "C:\\Users\\Andy\\Anaconda3\\envs\\learn-env\\lib\\site-packages\\sklearn\\pipeline.py:331: DataConversionWarning: Data with input dtype uint8, int64 were all converted to float64 by StandardScaler.\n",
      "  Xt = transform.transform(Xt)\n",
      "C:\\Users\\Andy\\Anaconda3\\envs\\learn-env\\lib\\site-packages\\sklearn\\pipeline.py:331: DataConversionWarning: Data with input dtype uint8, int64 were all converted to float64 by StandardScaler.\n",
      "  Xt = transform.transform(Xt)\n"
     ]
    },
    {
     "name": "stdout",
     "output_type": "stream",
     "text": [
      "[CV] ................................. clf__max_depth=5, total=   5.5s\n",
      "[CV] clf__max_depth=5 ................................................\n"
     ]
    },
    {
     "name": "stderr",
     "output_type": "stream",
     "text": [
      "[Parallel(n_jobs=1)]: Done   1 out of   1 | elapsed:    6.7s remaining:    0.0s\n",
      "C:\\Users\\Andy\\Anaconda3\\envs\\learn-env\\lib\\site-packages\\sklearn\\preprocessing\\data.py:625: DataConversionWarning: Data with input dtype uint8, int64 were all converted to float64 by StandardScaler.\n",
      "  return self.partial_fit(X, y)\n",
      "C:\\Users\\Andy\\Anaconda3\\envs\\learn-env\\lib\\site-packages\\sklearn\\base.py:465: DataConversionWarning: Data with input dtype uint8, int64 were all converted to float64 by StandardScaler.\n",
      "  return self.fit(X, y, **fit_params).transform(X)\n",
      "C:\\Users\\Andy\\Anaconda3\\envs\\learn-env\\lib\\site-packages\\sklearn\\pipeline.py:331: DataConversionWarning: Data with input dtype uint8, int64 were all converted to float64 by StandardScaler.\n",
      "  Xt = transform.transform(Xt)\n",
      "C:\\Users\\Andy\\Anaconda3\\envs\\learn-env\\lib\\site-packages\\sklearn\\pipeline.py:331: DataConversionWarning: Data with input dtype uint8, int64 were all converted to float64 by StandardScaler.\n",
      "  Xt = transform.transform(Xt)\n"
     ]
    },
    {
     "name": "stdout",
     "output_type": "stream",
     "text": [
      "[CV] ................................. clf__max_depth=5, total=   5.6s\n",
      "[CV] clf__max_depth=5 ................................................\n"
     ]
    },
    {
     "name": "stderr",
     "output_type": "stream",
     "text": [
      "C:\\Users\\Andy\\Anaconda3\\envs\\learn-env\\lib\\site-packages\\sklearn\\preprocessing\\data.py:625: DataConversionWarning: Data with input dtype uint8, int64 were all converted to float64 by StandardScaler.\n",
      "  return self.partial_fit(X, y)\n",
      "C:\\Users\\Andy\\Anaconda3\\envs\\learn-env\\lib\\site-packages\\sklearn\\base.py:465: DataConversionWarning: Data with input dtype uint8, int64 were all converted to float64 by StandardScaler.\n",
      "  return self.fit(X, y, **fit_params).transform(X)\n",
      "C:\\Users\\Andy\\Anaconda3\\envs\\learn-env\\lib\\site-packages\\sklearn\\pipeline.py:331: DataConversionWarning: Data with input dtype uint8, int64 were all converted to float64 by StandardScaler.\n",
      "  Xt = transform.transform(Xt)\n",
      "C:\\Users\\Andy\\Anaconda3\\envs\\learn-env\\lib\\site-packages\\sklearn\\pipeline.py:331: DataConversionWarning: Data with input dtype uint8, int64 were all converted to float64 by StandardScaler.\n",
      "  Xt = transform.transform(Xt)\n"
     ]
    },
    {
     "name": "stdout",
     "output_type": "stream",
     "text": [
      "[CV] ................................. clf__max_depth=5, total=   5.5s\n",
      "[CV] clf__max_depth=10 ...............................................\n"
     ]
    },
    {
     "name": "stderr",
     "output_type": "stream",
     "text": [
      "C:\\Users\\Andy\\Anaconda3\\envs\\learn-env\\lib\\site-packages\\sklearn\\preprocessing\\data.py:625: DataConversionWarning: Data with input dtype uint8, int64 were all converted to float64 by StandardScaler.\n",
      "  return self.partial_fit(X, y)\n",
      "C:\\Users\\Andy\\Anaconda3\\envs\\learn-env\\lib\\site-packages\\sklearn\\base.py:465: DataConversionWarning: Data with input dtype uint8, int64 were all converted to float64 by StandardScaler.\n",
      "  return self.fit(X, y, **fit_params).transform(X)\n",
      "C:\\Users\\Andy\\Anaconda3\\envs\\learn-env\\lib\\site-packages\\sklearn\\pipeline.py:331: DataConversionWarning: Data with input dtype uint8, int64 were all converted to float64 by StandardScaler.\n",
      "  Xt = transform.transform(Xt)\n",
      "C:\\Users\\Andy\\Anaconda3\\envs\\learn-env\\lib\\site-packages\\sklearn\\pipeline.py:331: DataConversionWarning: Data with input dtype uint8, int64 were all converted to float64 by StandardScaler.\n",
      "  Xt = transform.transform(Xt)\n"
     ]
    },
    {
     "name": "stdout",
     "output_type": "stream",
     "text": [
      "[CV] ................................ clf__max_depth=10, total=   7.0s\n",
      "[CV] clf__max_depth=10 ...............................................\n"
     ]
    },
    {
     "name": "stderr",
     "output_type": "stream",
     "text": [
      "C:\\Users\\Andy\\Anaconda3\\envs\\learn-env\\lib\\site-packages\\sklearn\\preprocessing\\data.py:625: DataConversionWarning: Data with input dtype uint8, int64 were all converted to float64 by StandardScaler.\n",
      "  return self.partial_fit(X, y)\n",
      "C:\\Users\\Andy\\Anaconda3\\envs\\learn-env\\lib\\site-packages\\sklearn\\base.py:465: DataConversionWarning: Data with input dtype uint8, int64 were all converted to float64 by StandardScaler.\n",
      "  return self.fit(X, y, **fit_params).transform(X)\n",
      "C:\\Users\\Andy\\Anaconda3\\envs\\learn-env\\lib\\site-packages\\sklearn\\pipeline.py:331: DataConversionWarning: Data with input dtype uint8, int64 were all converted to float64 by StandardScaler.\n",
      "  Xt = transform.transform(Xt)\n",
      "C:\\Users\\Andy\\Anaconda3\\envs\\learn-env\\lib\\site-packages\\sklearn\\pipeline.py:331: DataConversionWarning: Data with input dtype uint8, int64 were all converted to float64 by StandardScaler.\n",
      "  Xt = transform.transform(Xt)\n"
     ]
    },
    {
     "name": "stdout",
     "output_type": "stream",
     "text": [
      "[CV] ................................ clf__max_depth=10, total=   6.9s\n",
      "[CV] clf__max_depth=10 ...............................................\n"
     ]
    },
    {
     "name": "stderr",
     "output_type": "stream",
     "text": [
      "C:\\Users\\Andy\\Anaconda3\\envs\\learn-env\\lib\\site-packages\\sklearn\\preprocessing\\data.py:625: DataConversionWarning: Data with input dtype uint8, int64 were all converted to float64 by StandardScaler.\n",
      "  return self.partial_fit(X, y)\n",
      "C:\\Users\\Andy\\Anaconda3\\envs\\learn-env\\lib\\site-packages\\sklearn\\base.py:465: DataConversionWarning: Data with input dtype uint8, int64 were all converted to float64 by StandardScaler.\n",
      "  return self.fit(X, y, **fit_params).transform(X)\n",
      "C:\\Users\\Andy\\Anaconda3\\envs\\learn-env\\lib\\site-packages\\sklearn\\pipeline.py:331: DataConversionWarning: Data with input dtype uint8, int64 were all converted to float64 by StandardScaler.\n",
      "  Xt = transform.transform(Xt)\n",
      "C:\\Users\\Andy\\Anaconda3\\envs\\learn-env\\lib\\site-packages\\sklearn\\pipeline.py:331: DataConversionWarning: Data with input dtype uint8, int64 were all converted to float64 by StandardScaler.\n",
      "  Xt = transform.transform(Xt)\n"
     ]
    },
    {
     "name": "stdout",
     "output_type": "stream",
     "text": [
      "[CV] ................................ clf__max_depth=10, total=   7.2s\n",
      "[CV] clf__max_depth=15 ...............................................\n"
     ]
    },
    {
     "name": "stderr",
     "output_type": "stream",
     "text": [
      "C:\\Users\\Andy\\Anaconda3\\envs\\learn-env\\lib\\site-packages\\sklearn\\preprocessing\\data.py:625: DataConversionWarning: Data with input dtype uint8, int64 were all converted to float64 by StandardScaler.\n",
      "  return self.partial_fit(X, y)\n",
      "C:\\Users\\Andy\\Anaconda3\\envs\\learn-env\\lib\\site-packages\\sklearn\\base.py:465: DataConversionWarning: Data with input dtype uint8, int64 were all converted to float64 by StandardScaler.\n",
      "  return self.fit(X, y, **fit_params).transform(X)\n",
      "C:\\Users\\Andy\\Anaconda3\\envs\\learn-env\\lib\\site-packages\\sklearn\\pipeline.py:331: DataConversionWarning: Data with input dtype uint8, int64 were all converted to float64 by StandardScaler.\n",
      "  Xt = transform.transform(Xt)\n",
      "C:\\Users\\Andy\\Anaconda3\\envs\\learn-env\\lib\\site-packages\\sklearn\\pipeline.py:331: DataConversionWarning: Data with input dtype uint8, int64 were all converted to float64 by StandardScaler.\n",
      "  Xt = transform.transform(Xt)\n"
     ]
    },
    {
     "name": "stdout",
     "output_type": "stream",
     "text": [
      "[CV] ................................ clf__max_depth=15, total=   7.6s\n",
      "[CV] clf__max_depth=15 ...............................................\n"
     ]
    },
    {
     "name": "stderr",
     "output_type": "stream",
     "text": [
      "C:\\Users\\Andy\\Anaconda3\\envs\\learn-env\\lib\\site-packages\\sklearn\\preprocessing\\data.py:625: DataConversionWarning: Data with input dtype uint8, int64 were all converted to float64 by StandardScaler.\n",
      "  return self.partial_fit(X, y)\n",
      "C:\\Users\\Andy\\Anaconda3\\envs\\learn-env\\lib\\site-packages\\sklearn\\base.py:465: DataConversionWarning: Data with input dtype uint8, int64 were all converted to float64 by StandardScaler.\n",
      "  return self.fit(X, y, **fit_params).transform(X)\n",
      "C:\\Users\\Andy\\Anaconda3\\envs\\learn-env\\lib\\site-packages\\sklearn\\pipeline.py:331: DataConversionWarning: Data with input dtype uint8, int64 were all converted to float64 by StandardScaler.\n",
      "  Xt = transform.transform(Xt)\n",
      "C:\\Users\\Andy\\Anaconda3\\envs\\learn-env\\lib\\site-packages\\sklearn\\pipeline.py:331: DataConversionWarning: Data with input dtype uint8, int64 were all converted to float64 by StandardScaler.\n",
      "  Xt = transform.transform(Xt)\n"
     ]
    },
    {
     "name": "stdout",
     "output_type": "stream",
     "text": [
      "[CV] ................................ clf__max_depth=15, total=   8.1s\n",
      "[CV] clf__max_depth=15 ...............................................\n"
     ]
    },
    {
     "name": "stderr",
     "output_type": "stream",
     "text": [
      "C:\\Users\\Andy\\Anaconda3\\envs\\learn-env\\lib\\site-packages\\sklearn\\preprocessing\\data.py:625: DataConversionWarning: Data with input dtype uint8, int64 were all converted to float64 by StandardScaler.\n",
      "  return self.partial_fit(X, y)\n",
      "C:\\Users\\Andy\\Anaconda3\\envs\\learn-env\\lib\\site-packages\\sklearn\\base.py:465: DataConversionWarning: Data with input dtype uint8, int64 were all converted to float64 by StandardScaler.\n",
      "  return self.fit(X, y, **fit_params).transform(X)\n",
      "C:\\Users\\Andy\\Anaconda3\\envs\\learn-env\\lib\\site-packages\\sklearn\\pipeline.py:331: DataConversionWarning: Data with input dtype uint8, int64 were all converted to float64 by StandardScaler.\n",
      "  Xt = transform.transform(Xt)\n",
      "C:\\Users\\Andy\\Anaconda3\\envs\\learn-env\\lib\\site-packages\\sklearn\\pipeline.py:331: DataConversionWarning: Data with input dtype uint8, int64 were all converted to float64 by StandardScaler.\n",
      "  Xt = transform.transform(Xt)\n"
     ]
    },
    {
     "name": "stdout",
     "output_type": "stream",
     "text": [
      "[CV] ................................ clf__max_depth=15, total=   8.1s\n",
      "[CV] clf__max_depth=20 ...............................................\n"
     ]
    },
    {
     "name": "stderr",
     "output_type": "stream",
     "text": [
      "C:\\Users\\Andy\\Anaconda3\\envs\\learn-env\\lib\\site-packages\\sklearn\\preprocessing\\data.py:625: DataConversionWarning: Data with input dtype uint8, int64 were all converted to float64 by StandardScaler.\n",
      "  return self.partial_fit(X, y)\n",
      "C:\\Users\\Andy\\Anaconda3\\envs\\learn-env\\lib\\site-packages\\sklearn\\base.py:465: DataConversionWarning: Data with input dtype uint8, int64 were all converted to float64 by StandardScaler.\n",
      "  return self.fit(X, y, **fit_params).transform(X)\n",
      "C:\\Users\\Andy\\Anaconda3\\envs\\learn-env\\lib\\site-packages\\sklearn\\pipeline.py:331: DataConversionWarning: Data with input dtype uint8, int64 were all converted to float64 by StandardScaler.\n",
      "  Xt = transform.transform(Xt)\n",
      "C:\\Users\\Andy\\Anaconda3\\envs\\learn-env\\lib\\site-packages\\sklearn\\pipeline.py:331: DataConversionWarning: Data with input dtype uint8, int64 were all converted to float64 by StandardScaler.\n",
      "  Xt = transform.transform(Xt)\n"
     ]
    },
    {
     "name": "stdout",
     "output_type": "stream",
     "text": [
      "[CV] ................................ clf__max_depth=20, total=   7.7s\n",
      "[CV] clf__max_depth=20 ...............................................\n"
     ]
    },
    {
     "name": "stderr",
     "output_type": "stream",
     "text": [
      "C:\\Users\\Andy\\Anaconda3\\envs\\learn-env\\lib\\site-packages\\sklearn\\preprocessing\\data.py:625: DataConversionWarning: Data with input dtype uint8, int64 were all converted to float64 by StandardScaler.\n",
      "  return self.partial_fit(X, y)\n",
      "C:\\Users\\Andy\\Anaconda3\\envs\\learn-env\\lib\\site-packages\\sklearn\\base.py:465: DataConversionWarning: Data with input dtype uint8, int64 were all converted to float64 by StandardScaler.\n",
      "  return self.fit(X, y, **fit_params).transform(X)\n",
      "C:\\Users\\Andy\\Anaconda3\\envs\\learn-env\\lib\\site-packages\\sklearn\\pipeline.py:331: DataConversionWarning: Data with input dtype uint8, int64 were all converted to float64 by StandardScaler.\n",
      "  Xt = transform.transform(Xt)\n",
      "C:\\Users\\Andy\\Anaconda3\\envs\\learn-env\\lib\\site-packages\\sklearn\\pipeline.py:331: DataConversionWarning: Data with input dtype uint8, int64 were all converted to float64 by StandardScaler.\n",
      "  Xt = transform.transform(Xt)\n"
     ]
    },
    {
     "name": "stdout",
     "output_type": "stream",
     "text": [
      "[CV] ................................ clf__max_depth=20, total=   8.0s\n",
      "[CV] clf__max_depth=20 ...............................................\n"
     ]
    },
    {
     "name": "stderr",
     "output_type": "stream",
     "text": [
      "C:\\Users\\Andy\\Anaconda3\\envs\\learn-env\\lib\\site-packages\\sklearn\\preprocessing\\data.py:625: DataConversionWarning: Data with input dtype uint8, int64 were all converted to float64 by StandardScaler.\n",
      "  return self.partial_fit(X, y)\n",
      "C:\\Users\\Andy\\Anaconda3\\envs\\learn-env\\lib\\site-packages\\sklearn\\base.py:465: DataConversionWarning: Data with input dtype uint8, int64 were all converted to float64 by StandardScaler.\n",
      "  return self.fit(X, y, **fit_params).transform(X)\n",
      "C:\\Users\\Andy\\Anaconda3\\envs\\learn-env\\lib\\site-packages\\sklearn\\pipeline.py:331: DataConversionWarning: Data with input dtype uint8, int64 were all converted to float64 by StandardScaler.\n",
      "  Xt = transform.transform(Xt)\n",
      "C:\\Users\\Andy\\Anaconda3\\envs\\learn-env\\lib\\site-packages\\sklearn\\pipeline.py:331: DataConversionWarning: Data with input dtype uint8, int64 were all converted to float64 by StandardScaler.\n",
      "  Xt = transform.transform(Xt)\n"
     ]
    },
    {
     "name": "stdout",
     "output_type": "stream",
     "text": [
      "[CV] ................................ clf__max_depth=20, total=   8.3s\n",
      "[CV] clf__max_depth=50 ...............................................\n"
     ]
    },
    {
     "name": "stderr",
     "output_type": "stream",
     "text": [
      "C:\\Users\\Andy\\Anaconda3\\envs\\learn-env\\lib\\site-packages\\sklearn\\preprocessing\\data.py:625: DataConversionWarning: Data with input dtype uint8, int64 were all converted to float64 by StandardScaler.\n",
      "  return self.partial_fit(X, y)\n",
      "C:\\Users\\Andy\\Anaconda3\\envs\\learn-env\\lib\\site-packages\\sklearn\\base.py:465: DataConversionWarning: Data with input dtype uint8, int64 were all converted to float64 by StandardScaler.\n",
      "  return self.fit(X, y, **fit_params).transform(X)\n",
      "C:\\Users\\Andy\\Anaconda3\\envs\\learn-env\\lib\\site-packages\\sklearn\\pipeline.py:331: DataConversionWarning: Data with input dtype uint8, int64 were all converted to float64 by StandardScaler.\n",
      "  Xt = transform.transform(Xt)\n",
      "C:\\Users\\Andy\\Anaconda3\\envs\\learn-env\\lib\\site-packages\\sklearn\\pipeline.py:331: DataConversionWarning: Data with input dtype uint8, int64 were all converted to float64 by StandardScaler.\n",
      "  Xt = transform.transform(Xt)\n"
     ]
    },
    {
     "name": "stdout",
     "output_type": "stream",
     "text": [
      "[CV] ................................ clf__max_depth=50, total=   7.9s\n",
      "[CV] clf__max_depth=50 ...............................................\n"
     ]
    },
    {
     "name": "stderr",
     "output_type": "stream",
     "text": [
      "C:\\Users\\Andy\\Anaconda3\\envs\\learn-env\\lib\\site-packages\\sklearn\\preprocessing\\data.py:625: DataConversionWarning: Data with input dtype uint8, int64 were all converted to float64 by StandardScaler.\n",
      "  return self.partial_fit(X, y)\n",
      "C:\\Users\\Andy\\Anaconda3\\envs\\learn-env\\lib\\site-packages\\sklearn\\base.py:465: DataConversionWarning: Data with input dtype uint8, int64 were all converted to float64 by StandardScaler.\n",
      "  return self.fit(X, y, **fit_params).transform(X)\n",
      "C:\\Users\\Andy\\Anaconda3\\envs\\learn-env\\lib\\site-packages\\sklearn\\pipeline.py:331: DataConversionWarning: Data with input dtype uint8, int64 were all converted to float64 by StandardScaler.\n",
      "  Xt = transform.transform(Xt)\n",
      "C:\\Users\\Andy\\Anaconda3\\envs\\learn-env\\lib\\site-packages\\sklearn\\pipeline.py:331: DataConversionWarning: Data with input dtype uint8, int64 were all converted to float64 by StandardScaler.\n",
      "  Xt = transform.transform(Xt)\n"
     ]
    },
    {
     "name": "stdout",
     "output_type": "stream",
     "text": [
      "[CV] ................................ clf__max_depth=50, total=   8.1s\n",
      "[CV] clf__max_depth=50 ...............................................\n"
     ]
    },
    {
     "name": "stderr",
     "output_type": "stream",
     "text": [
      "C:\\Users\\Andy\\Anaconda3\\envs\\learn-env\\lib\\site-packages\\sklearn\\preprocessing\\data.py:625: DataConversionWarning: Data with input dtype uint8, int64 were all converted to float64 by StandardScaler.\n",
      "  return self.partial_fit(X, y)\n",
      "C:\\Users\\Andy\\Anaconda3\\envs\\learn-env\\lib\\site-packages\\sklearn\\base.py:465: DataConversionWarning: Data with input dtype uint8, int64 were all converted to float64 by StandardScaler.\n",
      "  return self.fit(X, y, **fit_params).transform(X)\n",
      "C:\\Users\\Andy\\Anaconda3\\envs\\learn-env\\lib\\site-packages\\sklearn\\pipeline.py:331: DataConversionWarning: Data with input dtype uint8, int64 were all converted to float64 by StandardScaler.\n",
      "  Xt = transform.transform(Xt)\n",
      "C:\\Users\\Andy\\Anaconda3\\envs\\learn-env\\lib\\site-packages\\sklearn\\pipeline.py:331: DataConversionWarning: Data with input dtype uint8, int64 were all converted to float64 by StandardScaler.\n",
      "  Xt = transform.transform(Xt)\n"
     ]
    },
    {
     "name": "stdout",
     "output_type": "stream",
     "text": [
      "[CV] ................................ clf__max_depth=50, total=   8.2s\n",
      "[CV] clf__max_depth=100 ..............................................\n"
     ]
    },
    {
     "name": "stderr",
     "output_type": "stream",
     "text": [
      "C:\\Users\\Andy\\Anaconda3\\envs\\learn-env\\lib\\site-packages\\sklearn\\preprocessing\\data.py:625: DataConversionWarning: Data with input dtype uint8, int64 were all converted to float64 by StandardScaler.\n",
      "  return self.partial_fit(X, y)\n",
      "C:\\Users\\Andy\\Anaconda3\\envs\\learn-env\\lib\\site-packages\\sklearn\\base.py:465: DataConversionWarning: Data with input dtype uint8, int64 were all converted to float64 by StandardScaler.\n",
      "  return self.fit(X, y, **fit_params).transform(X)\n",
      "C:\\Users\\Andy\\Anaconda3\\envs\\learn-env\\lib\\site-packages\\sklearn\\pipeline.py:331: DataConversionWarning: Data with input dtype uint8, int64 were all converted to float64 by StandardScaler.\n",
      "  Xt = transform.transform(Xt)\n",
      "C:\\Users\\Andy\\Anaconda3\\envs\\learn-env\\lib\\site-packages\\sklearn\\pipeline.py:331: DataConversionWarning: Data with input dtype uint8, int64 were all converted to float64 by StandardScaler.\n",
      "  Xt = transform.transform(Xt)\n"
     ]
    },
    {
     "name": "stdout",
     "output_type": "stream",
     "text": [
      "[CV] ............................... clf__max_depth=100, total=   7.9s\n",
      "[CV] clf__max_depth=100 ..............................................\n"
     ]
    },
    {
     "name": "stderr",
     "output_type": "stream",
     "text": [
      "C:\\Users\\Andy\\Anaconda3\\envs\\learn-env\\lib\\site-packages\\sklearn\\preprocessing\\data.py:625: DataConversionWarning: Data with input dtype uint8, int64 were all converted to float64 by StandardScaler.\n",
      "  return self.partial_fit(X, y)\n",
      "C:\\Users\\Andy\\Anaconda3\\envs\\learn-env\\lib\\site-packages\\sklearn\\base.py:465: DataConversionWarning: Data with input dtype uint8, int64 were all converted to float64 by StandardScaler.\n",
      "  return self.fit(X, y, **fit_params).transform(X)\n",
      "C:\\Users\\Andy\\Anaconda3\\envs\\learn-env\\lib\\site-packages\\sklearn\\pipeline.py:331: DataConversionWarning: Data with input dtype uint8, int64 were all converted to float64 by StandardScaler.\n",
      "  Xt = transform.transform(Xt)\n",
      "C:\\Users\\Andy\\Anaconda3\\envs\\learn-env\\lib\\site-packages\\sklearn\\pipeline.py:331: DataConversionWarning: Data with input dtype uint8, int64 were all converted to float64 by StandardScaler.\n",
      "  Xt = transform.transform(Xt)\n"
     ]
    },
    {
     "name": "stdout",
     "output_type": "stream",
     "text": [
      "[CV] ............................... clf__max_depth=100, total=   8.8s\n",
      "[CV] clf__max_depth=100 ..............................................\n"
     ]
    },
    {
     "name": "stderr",
     "output_type": "stream",
     "text": [
      "C:\\Users\\Andy\\Anaconda3\\envs\\learn-env\\lib\\site-packages\\sklearn\\preprocessing\\data.py:625: DataConversionWarning: Data with input dtype uint8, int64 were all converted to float64 by StandardScaler.\n",
      "  return self.partial_fit(X, y)\n",
      "C:\\Users\\Andy\\Anaconda3\\envs\\learn-env\\lib\\site-packages\\sklearn\\base.py:465: DataConversionWarning: Data with input dtype uint8, int64 were all converted to float64 by StandardScaler.\n",
      "  return self.fit(X, y, **fit_params).transform(X)\n",
      "C:\\Users\\Andy\\Anaconda3\\envs\\learn-env\\lib\\site-packages\\sklearn\\pipeline.py:331: DataConversionWarning: Data with input dtype uint8, int64 were all converted to float64 by StandardScaler.\n",
      "  Xt = transform.transform(Xt)\n",
      "C:\\Users\\Andy\\Anaconda3\\envs\\learn-env\\lib\\site-packages\\sklearn\\pipeline.py:331: DataConversionWarning: Data with input dtype uint8, int64 were all converted to float64 by StandardScaler.\n",
      "  Xt = transform.transform(Xt)\n"
     ]
    },
    {
     "name": "stdout",
     "output_type": "stream",
     "text": [
      "[CV] ............................... clf__max_depth=100, total=   8.5s\n"
     ]
    },
    {
     "name": "stderr",
     "output_type": "stream",
     "text": [
      "[Parallel(n_jobs=1)]: Done  18 out of  18 | elapsed:  2.7min finished\n",
      "C:\\Users\\Andy\\Anaconda3\\envs\\learn-env\\lib\\site-packages\\sklearn\\preprocessing\\data.py:625: DataConversionWarning: Data with input dtype uint8, int64 were all converted to float64 by StandardScaler.\n",
      "  return self.partial_fit(X, y)\n",
      "C:\\Users\\Andy\\Anaconda3\\envs\\learn-env\\lib\\site-packages\\sklearn\\base.py:465: DataConversionWarning: Data with input dtype uint8, int64 were all converted to float64 by StandardScaler.\n",
      "  return self.fit(X, y, **fit_params).transform(X)\n"
     ]
    },
    {
     "name": "stdout",
     "output_type": "stream",
     "text": [
      "Best accuracy 0.965\n",
      "\n",
      "Best params:\n",
      " {'clf__max_depth': 10}\n"
     ]
    }
   ],
   "source": [
    "pipe_dt = Pipeline([('scaler', StandardScaler()),\n",
    "                    ('clf', DecisionTreeClassifier())])\n",
    "\n",
    "param_grid_tree = [\n",
    "    {'clf__max_depth': [5, 10, 15, 20, 50, 100]}\n",
    "]\n",
    "\n",
    "gs_dt = GridSearchCV(estimator=pipe_dt,\n",
    "                    param_grid=param_grid_tree,\n",
    "                    scoring='accuracy',\n",
    "                    cv=3, return_train_score=True)\n",
    "\n",
    "gs_dt.fit(X_train,y_train)\n",
    "\n",
    "#Best Accuracy\n",
    "print('Best accuracy %.3f' % gs_dt.best_score_)\n",
    "\n",
    "#Best Params\n",
    "print('\\nBest params:\\n', gs_dt.best_params_)\n",
    "\n",
    "#pipe_dt.fit(X_train, y_train)\n",
    "#print(pipe_dt.score(X_test, y_test))"
   ]
  },
  {
   "cell_type": "markdown",
   "metadata": {},
   "source": [
    "## Get Best Pipeline"
   ]
  },
  {
   "cell_type": "code",
   "execution_count": 31,
   "metadata": {
    "ExecuteTime": {
     "end_time": "2019-11-21T18:09:30.029964Z",
     "start_time": "2019-11-21T18:09:30.023981Z"
    }
   },
   "outputs": [
    {
     "data": {
      "text/plain": [
       "Pipeline(memory=None,\n",
       "     steps=[('scaler', StandardScaler(copy=True, with_mean=True, with_std=True)), ('clf', DecisionTreeClassifier(class_weight=None, criterion='gini', max_depth=10,\n",
       "            max_features=None, max_leaf_nodes=None,\n",
       "            min_impurity_decrease=0.0, min_impurity_split=None,\n",
       "            min_samples_leaf=1, min_samples_split=2,\n",
       "            min_weight_fraction_leaf=0.0, presort=False, random_state=None,\n",
       "            splitter='best'))])"
      ]
     },
     "execution_count": 31,
     "metadata": {},
     "output_type": "execute_result"
    }
   ],
   "source": [
    "gs_dt.best_estimator_"
   ]
  },
  {
   "cell_type": "code",
   "execution_count": 32,
   "metadata": {
    "ExecuteTime": {
     "end_time": "2019-11-21T18:33:03.357141Z",
     "start_time": "2019-11-21T18:33:03.351129Z"
    }
   },
   "outputs": [
    {
     "data": {
      "text/plain": [
       "sklearn.pipeline.Pipeline"
      ]
     },
     "execution_count": 32,
     "metadata": {},
     "output_type": "execute_result"
    }
   ],
   "source": [
    "type(gs_dt.best_estimator_)"
   ]
  },
  {
   "cell_type": "code",
   "execution_count": 35,
   "metadata": {
    "ExecuteTime": {
     "end_time": "2019-11-21T18:38:08.786539Z",
     "start_time": "2019-11-21T18:38:08.782549Z"
    }
   },
   "outputs": [],
   "source": [
    "best_pipeline = gs_dt.best_estimator_"
   ]
  },
  {
   "cell_type": "markdown",
   "metadata": {
    "ExecuteTime": {
     "end_time": "2019-11-21T18:34:24.752741Z",
     "start_time": "2019-11-21T18:34:24.749771Z"
    }
   },
   "source": [
    "## Get Classifier"
   ]
  },
  {
   "cell_type": "code",
   "execution_count": 36,
   "metadata": {
    "ExecuteTime": {
     "end_time": "2019-11-21T18:38:11.417378Z",
     "start_time": "2019-11-21T18:38:11.413342Z"
    }
   },
   "outputs": [
    {
     "data": {
      "text/plain": [
       "('clf',\n",
       " DecisionTreeClassifier(class_weight=None, criterion='gini', max_depth=10,\n",
       "             max_features=None, max_leaf_nodes=None,\n",
       "             min_impurity_decrease=0.0, min_impurity_split=None,\n",
       "             min_samples_leaf=1, min_samples_split=2,\n",
       "             min_weight_fraction_leaf=0.0, presort=False, random_state=None,\n",
       "             splitter='best'))"
      ]
     },
     "execution_count": 36,
     "metadata": {},
     "output_type": "execute_result"
    }
   ],
   "source": [
    "best_pipeline.steps[1]"
   ]
  },
  {
   "cell_type": "code",
   "execution_count": 44,
   "metadata": {
    "ExecuteTime": {
     "end_time": "2019-11-21T18:46:42.159797Z",
     "start_time": "2019-11-21T18:46:42.154810Z"
    }
   },
   "outputs": [
    {
     "data": {
      "text/plain": [
       "array([0.0033476 , 0.22724648, 0.01827762, ..., 0.        , 0.        ,\n",
       "       0.        ])"
      ]
     },
     "metadata": {},
     "output_type": "display_data"
    }
   ],
   "source": [
    "display(best_pipeline.steps[1][1].feature_importances_)"
   ]
  },
  {
   "cell_type": "markdown",
   "metadata": {},
   "source": [
    "## See which features are most important\n"
   ]
  },
  {
   "cell_type": "code",
   "execution_count": 43,
   "metadata": {
    "ExecuteTime": {
     "end_time": "2019-11-21T18:46:14.109518Z",
     "start_time": "2019-11-21T18:46:13.997816Z"
    }
   },
   "outputs": [
    {
     "data": {
      "image/png": "[encoded data removed]",
      "text/plain": [
       "<Figure size 432x288 with 1 Axes>"
      ]
     },
     "metadata": {
      "needs_background": "light"
     },
     "output_type": "display_data"
    }
   ],
   "source": [
    "features = X_train.columns\n",
    "importances = best_pipeline.steps[1][1].feature_importances_[:10]\n",
    "indices = np.argsort(importances)\n",
    "\n",
    "plt.title('Feature Importances')\n",
    "plt.barh(range(len(indices)), importances[indices], color='b', align='center')\n",
    "plt.yticks(range(len(indices)), [features[i] for i in indices])\n",
    "plt.xlabel('Relative Importance')\n",
    "plt.show()"
   ]
  },
  {
   "cell_type": "markdown",
   "metadata": {},
   "source": [
    "## Find better hyperparameters\n"
   ]
  },
  {
   "cell_type": "code",
   "execution_count": null,
   "metadata": {},
   "outputs": [],
   "source": []
  },
  {
   "cell_type": "markdown",
   "metadata": {},
   "source": [
    "# Use PCA, run Decision Tree Again"
   ]
  },
  {
   "cell_type": "markdown",
   "metadata": {
    "ExecuteTime": {
     "end_time": "2019-11-20T16:33:26.418486Z",
     "start_time": "2019-11-20T16:33:26.415493Z"
    }
   },
   "source": [
    "## Find the number of features that allows for 95% of variance to be kept"
   ]
  },
  {
   "cell_type": "code",
   "execution_count": null,
   "metadata": {
    "ExecuteTime": {
     "end_time": "2019-11-20T16:40:03.780430Z",
     "start_time": "2019-11-20T16:39:34.484239Z"
    }
   },
   "outputs": [],
   "source": [
    "scaler = StandardScaler()\n",
    "X_train_scaled = scaler.fit_transform(X_train)\n",
    "\n",
    "pca = PCA()\n",
    "X_pca = pca.fit_transform(X_train_scaled)\n",
    "\n",
    "total_explained_variance = pca.explained_variance_ratio_.cumsum()\n",
    "n_over_95 = len(total_explained_variance[total_explained_variance >= .95])\n",
    "n_to_reach_95 = X.shape[1] - n_over_95 + 1\n",
    "print(\"Number features: {}\\tTotal Variance Explained: {}\".format(n_to_reach_95, total_explained_variance[n_to_reach_95-1]))"
   ]
  },
  {
   "cell_type": "code",
   "execution_count": null,
   "metadata": {
    "ExecuteTime": {
     "end_time": "2019-11-20T17:05:40.780270Z",
     "start_time": "2019-11-20T17:04:25.596641Z"
    }
   },
   "outputs": [],
   "source": [
    "pipe_pca_dt = Pipeline([('scaler', StandardScaler()),\n",
    "                    ('pca', PCA(n_components=2634)),\n",
    "                    ('clf', DecisionTreeClassifier(max_depth=5))])\n",
    "\n",
    "pipe_pca_dt.fit(X_train, y_train)\n",
    "print(pipe_pca_dt.score(X_test, y_test))"
   ]
  },
  {
   "cell_type": "markdown",
   "metadata": {},
   "source": [
    "# Use other ensemble methods"
   ]
  },
  {
   "cell_type": "markdown",
   "metadata": {},
   "source": [
    "# Random Forest\n"
   ]
  },
  {
   "cell_type": "markdown",
   "metadata": {},
   "source": [
    "# SVM\n"
   ]
  },
  {
   "cell_type": "code",
   "execution_count": null,
   "metadata": {
    "ExecuteTime": {
     "start_time": "2019-11-20T17:59:53.153Z"
    }
   },
   "outputs": [
    {
     "name": "stderr",
     "output_type": "stream",
     "text": [
      "C:\\Users\\Andy\\Anaconda3\\envs\\learn-env\\lib\\site-packages\\sklearn\\preprocessing\\data.py:625: DataConversionWarning: Data with input dtype uint8, int64 were all converted to float64 by StandardScaler.\n",
      "  return self.partial_fit(X, y)\n",
      "C:\\Users\\Andy\\Anaconda3\\envs\\learn-env\\lib\\site-packages\\sklearn\\base.py:465: DataConversionWarning: Data with input dtype uint8, int64 were all converted to float64 by StandardScaler.\n",
      "  return self.fit(X, y, **fit_params).transform(X)\n",
      "C:\\Users\\Andy\\Anaconda3\\envs\\learn-env\\lib\\site-packages\\sklearn\\svm\\base.py:196: FutureWarning: The default value of gamma will change from 'auto' to 'scale' in version 0.22 to account better for unscaled features. Set gamma explicitly to 'auto' or 'scale' to avoid this warning.\n",
      "  \"avoid this warning.\", FutureWarning)\n",
      "C:\\Users\\Andy\\Anaconda3\\envs\\learn-env\\lib\\site-packages\\sklearn\\pipeline.py:511: DataConversionWarning: Data with input dtype uint8, int64 were all converted to float64 by StandardScaler.\n",
      "  Xt = transform.transform(Xt)\n"
     ]
    }
   ],
   "source": [
    "pipe_svm = Pipeline([('scaler', StandardScaler()),\n",
    "            ('pca', PCA(n_components=2634)),\n",
    "            ('clf', svm.SVC(random_state=123))])\n",
    "\n",
    "pipe_svm.fit(X_train, y_train)\n",
    "print(pipe_svm.score(X_test, y_test))"
   ]
  },
  {
   "cell_type": "code",
   "execution_count": null,
   "metadata": {
    "ExecuteTime": {
     "start_time": "2019-11-20T17:43:33.549Z"
    }
   },
   "outputs": [],
   "source": [
    "pipe_svm = Pipeline([('scaler', StandardScaler()),\n",
    "            ('pca', PCA(n_components=2634)),\n",
    "            ('clf', svm.SVC(random_state=123))])\n",
    "\n",
    "# Set grid search params\n",
    "param_grid_svm = [\n",
    "  {'clf__C': [0.1, 1, 10]  , 'clf__kernel': ['linear']},\n",
    "  {'clf__C': [1, 10], 'clf__gamma': [0.001, 0.01], 'clf__kernel': ['rbf']},\n",
    " ]\n",
    "\n",
    "# Construct grid search\n",
    "gs_svm = GridSearchCV(estimator=pipe_svm,\n",
    "            param_grid=param_grid_svm,\n",
    "            scoring='accuracy',\n",
    "            cv=3, verbose=2, return_train_score = True)\n",
    "\n",
    "# Fit using grid search\n",
    "gs_svm.fit(X_train, y_train)\n",
    "\n",
    "# Best accuracy\n",
    "print('Best accuracy: %.3f' % gs_svm.best_score_)\n",
    "\n",
    "# Best params\n",
    "print('\\nBest params:\\n', gs_svm.best_params_)"
   ]
  },
  {
   "cell_type": "markdown",
   "metadata": {},
   "source": [
    "# XGBoost"
   ]
  },
  {
   "cell_type": "code",
   "execution_count": null,
   "metadata": {},
   "outputs": [],
   "source": []
  }
 ],
 "metadata": {
  "kernelspec": {
   "display_name": "learn-env",
   "language": "python",
   "name": "learn-env"
  },
  "language_info": {
   "codemirror_mode": {
    "name": "ipython",
    "version": 3
   },
   "file_extension": ".py",
   "mimetype": "text/x-python",
   "name": "python",
   "nbconvert_exporter": "python",
   "pygments_lexer": "ipython3",
   "version": "3.6.6"
  },
  "toc": {
   "base_numbering": 1,
   "nav_menu": {},
   "number_sections": true,
   "sideBar": true,
   "skip_h1_title": false,
   "title_cell": "Table of Contents",
   "title_sidebar": "Contents",
   "toc_cell": true,
   "toc_position": {
    "height": "789px",
    "left": "236px",
    "top": "110px",
    "width": "384px"
   },
   "toc_section_display": true,
   "toc_window_display": true
  },
  "varInspector": {
   "cols": {
    "lenName": 16,
    "lenType": 16,
    "lenVar": 40
   },
   "kernels_config": {
    "python": {
     "delete_cmd_postfix": "",
     "delete_cmd_prefix": "del ",
     "library": "var_list.py",
     "varRefreshCmd": "print(var_dic_list())"
    },
    "r": {
     "delete_cmd_postfix": ") ",
     "delete_cmd_prefix": "rm(",
     "library": "var_list.r",
     "varRefreshCmd": "cat(var_dic_list()) "
    }
   },
   "types_to_exclude": [
    "module",
    "function",
    "builtin_function_or_method",
    "instance",
    "_Feature"
   ],
   "window_display": false
  }
 },
 "nbformat": 4,
 "nbformat_minor": 2
}
